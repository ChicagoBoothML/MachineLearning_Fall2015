{
 "cells": [
  {
   "cell_type": "markdown",
   "metadata": {},
   "source": [
    "# OVERVIEW\n",
    "\n",
    "This iPython Notebook uses the **_Boston Housing_** data set to illustrate\n",
    "\n",
    "- **Decision Trees** and trees-related **_ensemble modeling_** methods:\n",
    "- **Random Forests**, which are based on **Bootstrap Aggregating** (\"**Bagging**\") applied to trees; and \n",
    "- **Boosted Additive (Trees) Models**."
   ]
  },
  {
   "cell_type": "markdown",
   "metadata": {},
   "source": [
    "# _first, some boring logistics..._\n",
    "\n",
    "Let's first:\n",
    "\n",
    "- install and import some necessary Python packages and helper modules; and\n",
    "- set some constants."
   ]
  },
  {
   "cell_type": "code",
   "execution_count": 1,
   "metadata": {},
   "outputs": [],
   "source": [
    "# enable in-line MatPlotLib\n",
    "%matplotlib inline"
   ]
  },
  {
   "cell_type": "code",
   "execution_count": 2,
   "metadata": {},
   "outputs": [],
   "source": [
    "# import Python packages\n",
    "from __future__ import division, print_function\n",
    "import ggplot\n",
    "import matplotlib\n",
    "from matplotlib import pyplot\n",
    "import multiprocessing\n",
    "import numpy\n",
    "import os\n",
    "import pandas\n",
    "from sklearn.cross_validation import cross_val_score, KFold\n",
    "from sklearn.ensemble import GradientBoostingRegressor, RandomForestRegressor\n",
    "from sklearn.tree import DecisionTreeRegressor"
   ]
  },
  {
   "cell_type": "code",
   "execution_count": 3,
   "metadata": {},
   "outputs": [],
   "source": [
    "# set CONSTANTS\n",
    "\n",
    "# in AWS EMR mode?\n",
    "AWS_EMR_MODE = os.path.expanduser('~') == '/home/hadoop'\n",
    "\n",
    "# data paths\n",
    "DATA_FILE_NAME = 'BostonHousing.csv'\n",
    "DATA_URL = 'https://raw.githubusercontent.com/ChicagoBoothML/DATA___BostonHousing/master/%s' % DATA_FILE_NAME\n",
    "\n",
    "# number of examples to show from a data set\n",
    "NB_EXAMPLES_TO_SHOW = 9\n",
    "\n",
    "# random seed\n",
    "RANDOM_SEED = 99"
   ]
  },
  {
   "cell_type": "code",
   "execution_count": 4,
   "metadata": {},
   "outputs": [],
   "source": [
    "# install ChicagoBoothML_Helpy package\n",
    "CHICAGOBOOTHML_HELPY_INSTALLATION_COMMAND = \\\n",
    "    'pip install --upgrade git+git://GitHub.com/ChicagoBoothML/Helpy --no-dependencies'\n",
    "    \n",
    "if AWS_EMR_MODE:\n",
    "    os.system('sudo %s' % CHICAGOBOOTHML_HELPY_INSTALLATION_COMMAND)\n",
    "else:\n",
    "    os.system(CHICAGOBOOTHML_HELPY_INSTALLATION_COMMAND)"
   ]
  },
  {
   "cell_type": "code",
   "execution_count": 5,
   "metadata": {},
   "outputs": [],
   "source": [
    "# import from ChicagoBoothML_Helpy\n",
    "from ChicagoBoothML_Helpy.EvaluationMetrics import mse"
   ]
  },
  {
   "cell_type": "markdown",
   "metadata": {},
   "source": [
    "# Boston Housing data set\n",
    "\n",
    "Let's now import the Boston Housing data into a **`pandas`** data frame:"
   ]
  },
  {
   "cell_type": "code",
   "execution_count": 6,
   "metadata": {},
   "outputs": [
    {
     "data": {
      "text/html": [
       "<div>\n",
       "<table border=\"1\" class=\"dataframe\">\n",
       "  <thead>\n",
       "    <tr style=\"text-align: right;\">\n",
       "      <th></th>\n",
       "      <th>crim</th>\n",
       "      <th>zn</th>\n",
       "      <th>indus</th>\n",
       "      <th>chas</th>\n",
       "      <th>nox</th>\n",
       "      <th>rm</th>\n",
       "      <th>age</th>\n",
       "      <th>dis</th>\n",
       "      <th>rad</th>\n",
       "      <th>tax</th>\n",
       "      <th>ptratio</th>\n",
       "      <th>black</th>\n",
       "      <th>lstat</th>\n",
       "      <th>medv</th>\n",
       "    </tr>\n",
       "  </thead>\n",
       "  <tbody>\n",
       "    <tr>\n",
       "      <th>161</th>\n",
       "      <td>1.46336</td>\n",
       "      <td>0</td>\n",
       "      <td>19.58</td>\n",
       "      <td>0</td>\n",
       "      <td>0.6050</td>\n",
       "      <td>7.489</td>\n",
       "      <td>90.8</td>\n",
       "      <td>1.9709</td>\n",
       "      <td>5</td>\n",
       "      <td>403</td>\n",
       "      <td>14.7</td>\n",
       "      <td>374.43</td>\n",
       "      <td>1.73</td>\n",
       "      <td>50.0</td>\n",
       "    </tr>\n",
       "    <tr>\n",
       "      <th>162</th>\n",
       "      <td>1.83377</td>\n",
       "      <td>0</td>\n",
       "      <td>19.58</td>\n",
       "      <td>1</td>\n",
       "      <td>0.6050</td>\n",
       "      <td>7.802</td>\n",
       "      <td>98.2</td>\n",
       "      <td>2.0407</td>\n",
       "      <td>5</td>\n",
       "      <td>403</td>\n",
       "      <td>14.7</td>\n",
       "      <td>389.61</td>\n",
       "      <td>1.92</td>\n",
       "      <td>50.0</td>\n",
       "    </tr>\n",
       "    <tr>\n",
       "      <th>40</th>\n",
       "      <td>0.03359</td>\n",
       "      <td>75</td>\n",
       "      <td>2.95</td>\n",
       "      <td>0</td>\n",
       "      <td>0.4280</td>\n",
       "      <td>7.024</td>\n",
       "      <td>15.8</td>\n",
       "      <td>5.4011</td>\n",
       "      <td>3</td>\n",
       "      <td>252</td>\n",
       "      <td>18.3</td>\n",
       "      <td>395.62</td>\n",
       "      <td>1.98</td>\n",
       "      <td>34.9</td>\n",
       "    </tr>\n",
       "    <tr>\n",
       "      <th>232</th>\n",
       "      <td>0.57529</td>\n",
       "      <td>0</td>\n",
       "      <td>6.20</td>\n",
       "      <td>0</td>\n",
       "      <td>0.5070</td>\n",
       "      <td>8.337</td>\n",
       "      <td>73.3</td>\n",
       "      <td>3.8384</td>\n",
       "      <td>8</td>\n",
       "      <td>307</td>\n",
       "      <td>17.4</td>\n",
       "      <td>385.91</td>\n",
       "      <td>2.47</td>\n",
       "      <td>41.7</td>\n",
       "    </tr>\n",
       "    <tr>\n",
       "      <th>192</th>\n",
       "      <td>0.08664</td>\n",
       "      <td>45</td>\n",
       "      <td>3.44</td>\n",
       "      <td>0</td>\n",
       "      <td>0.4370</td>\n",
       "      <td>7.178</td>\n",
       "      <td>26.3</td>\n",
       "      <td>6.4798</td>\n",
       "      <td>5</td>\n",
       "      <td>398</td>\n",
       "      <td>15.2</td>\n",
       "      <td>390.49</td>\n",
       "      <td>2.87</td>\n",
       "      <td>36.4</td>\n",
       "    </tr>\n",
       "    <tr>\n",
       "      <th>204</th>\n",
       "      <td>0.02009</td>\n",
       "      <td>95</td>\n",
       "      <td>2.68</td>\n",
       "      <td>0</td>\n",
       "      <td>0.4161</td>\n",
       "      <td>8.034</td>\n",
       "      <td>31.9</td>\n",
       "      <td>5.1180</td>\n",
       "      <td>4</td>\n",
       "      <td>224</td>\n",
       "      <td>14.7</td>\n",
       "      <td>390.55</td>\n",
       "      <td>2.88</td>\n",
       "      <td>50.0</td>\n",
       "    </tr>\n",
       "    <tr>\n",
       "      <th>3</th>\n",
       "      <td>0.03237</td>\n",
       "      <td>0</td>\n",
       "      <td>2.18</td>\n",
       "      <td>0</td>\n",
       "      <td>0.4580</td>\n",
       "      <td>6.998</td>\n",
       "      <td>45.8</td>\n",
       "      <td>6.0622</td>\n",
       "      <td>3</td>\n",
       "      <td>222</td>\n",
       "      <td>18.7</td>\n",
       "      <td>394.63</td>\n",
       "      <td>2.94</td>\n",
       "      <td>33.4</td>\n",
       "    </tr>\n",
       "    <tr>\n",
       "      <th>370</th>\n",
       "      <td>6.53876</td>\n",
       "      <td>0</td>\n",
       "      <td>18.10</td>\n",
       "      <td>1</td>\n",
       "      <td>0.6310</td>\n",
       "      <td>7.016</td>\n",
       "      <td>97.5</td>\n",
       "      <td>1.2024</td>\n",
       "      <td>24</td>\n",
       "      <td>666</td>\n",
       "      <td>20.2</td>\n",
       "      <td>392.05</td>\n",
       "      <td>2.96</td>\n",
       "      <td>50.0</td>\n",
       "    </tr>\n",
       "    <tr>\n",
       "      <th>195</th>\n",
       "      <td>0.01381</td>\n",
       "      <td>80</td>\n",
       "      <td>0.46</td>\n",
       "      <td>0</td>\n",
       "      <td>0.4220</td>\n",
       "      <td>7.875</td>\n",
       "      <td>32.0</td>\n",
       "      <td>5.6484</td>\n",
       "      <td>4</td>\n",
       "      <td>255</td>\n",
       "      <td>14.4</td>\n",
       "      <td>394.23</td>\n",
       "      <td>2.97</td>\n",
       "      <td>50.0</td>\n",
       "    </tr>\n",
       "  </tbody>\n",
       "</table>\n",
       "</div>"
      ]
     },
     "output_type": "execute_result",
     "metadata": {}
    }
   ],
   "source": [
    "# read Boston Housing data into data frame\n",
    "boston_housing_df = pandas.read_csv(DATA_URL)\n",
    "\n",
    "boston_housing_df.sort_values(by='lstat', inplace=True)\n",
    "nb_samples = len(boston_housing_df)\n",
    "boston_housing_df[:NB_EXAMPLES_TO_SHOW]"
   ]
  },
  {
   "cell_type": "markdown",
   "metadata": {},
   "source": [
    "# Models with 1 Predictor\n",
    "\n",
    "For illustrative purposes, let's look at two variables of interest: **`lstat`** (our predictor variable(s) $\\mathbf X$) and **`medv`** (our variable to predict $\\mathbf y$). Below is a plot of them against each other:"
   ]
  },
  {
   "cell_type": "code",
   "execution_count": 7,
   "metadata": {},
   "outputs": [
    {
     "data": {
      "image/png": "[encoded data removed]"
     },
     "output_type": "display_data",
     "metadata": {}
    },
    {
     "data": {
      "text/plain": [
       "<ggplot: (8726899733741)>"
      ]
     },
     "execution_count": 7,
     "output_type": "execute_result",
     "metadata": {}
    }
   ],
   "source": [
    "# set PyPlot parameters\n",
    "pyplot.rcParams['axes.titlesize'] = 'xx-large'   # font size for plot title\n",
    "\n",
    "# plotting function for repeated calls\n",
    "def plot_boston_housing_data(\n",
    "        boston_housing_data,\n",
    "        x_name='lstat', y_name='medv', y_hat_name='predicted_medv',\n",
    "        title='Boston Housing: medv vs. lstat',\n",
    "        plot_predicted=True):\n",
    "    \n",
    "    g = ggplot.ggplot(\n",
    "            ggplot.aes(\n",
    "                x=x_name,\n",
    "                y=y_name),\n",
    "            data=boston_housing_data) + \\\n",
    "        ggplot.geom_point(\n",
    "            size=10,\n",
    "            color='blue') + \\\n",
    "        ggplot.ggtitle(title) + \\\n",
    "        ggplot.xlab(x_name) + ggplot.ylab(y_name) + \\\n",
    "        ggplot.theme_matplotlib(\n",
    "            rc={'figure.figsize': (11, 8.5),\n",
    "                'axes.labelsize': 'xx-large'},\n",
    "            matplotlib_defaults=False)\n",
    "        \n",
    "    if plot_predicted:\n",
    "        g += ggplot.geom_line(\n",
    "            ggplot.aes(\n",
    "                x=x_name,\n",
    "                y=y_hat_name),\n",
    "            size=2,\n",
    "            color='darkorange')\n",
    "    \n",
    "    return g\n",
    "\n",
    "plot_boston_housing_data(boston_housing_df, plot_predicted=False)"
   ]
  },
  {
   "cell_type": "markdown",
   "metadata": {},
   "source": [
    "## Single Decision Trees\n",
    "\n",
    "Let's now play with a few single decision trees, using all samples:"
   ]
  },
  {
   "cell_type": "code",
   "execution_count": 8,
   "metadata": {},
   "outputs": [
    {
     "data": {
      "image/png": "[encoded data removed]"
     },
     "output_type": "display_data",
     "metadata": {}
    },
    {
     "data": {
      "text/plain": [
       "<ggplot: (8726868908221)>"
      ]
     },
     "execution_count": 8,
     "output_type": "execute_result",
     "metadata": {}
    }
   ],
   "source": [
    "tree_model = \\\n",
    "    DecisionTreeRegressor(\n",
    "        criterion='mse',\n",
    "        splitter='best',\n",
    "        max_depth=None,   # expand until all leaves are pure or contain < MIN_SAMPLES_SPLIT samples\n",
    "        min_samples_split=200,\n",
    "        min_samples_leaf=100,\n",
    "        min_weight_fraction_leaf=0.0,\n",
    "        max_features=None,   # number of features to consider when looking for the best split; None: max_features=n_features\n",
    "        max_leaf_nodes=None,   # None: unlimited number of leaf nodes\n",
    "        random_state=RANDOM_SEED)\n",
    "\n",
    "tree_model.fit(\n",
    "    X=boston_housing_df[['lstat']],\n",
    "    y=boston_housing_df.medv)\n",
    "\n",
    "boston_housing_df['predicted_medv'] = \\\n",
    "    tree_model.predict(\n",
    "        X=boston_housing_df[['lstat']])\n",
    "\n",
    "plot_boston_housing_data(\n",
    "    boston_housing_df,\n",
    "    title='Simple Tree Model')"
   ]
  },
  {
   "cell_type": "markdown",
   "metadata": {},
   "source": [
    "We see that with the above tuning parameters, the tree model is a **fairly simple, crude step function**. This function seems to have **high bias** and **low variance**."
   ]
  },
  {
   "cell_type": "markdown",
   "metadata": {},
   "source": [
    "Let's try bigger, more complex tree:"
   ]
  },
  {
   "cell_type": "code",
   "execution_count": 9,
   "metadata": {},
   "outputs": [
    {
     "data": {
      "image/png": "[encoded data removed]"
     },
     "output_type": "display_data",
     "metadata": {}
    },
    {
     "data": {
      "text/plain": [
       "<ggplot: (8726868908213)>"
      ]
     },
     "execution_count": 9,
     "output_type": "execute_result",
     "metadata": {}
    }
   ],
   "source": [
    "tree_model = \\\n",
    "    DecisionTreeRegressor(\n",
    "        criterion='mse',\n",
    "        splitter='best',\n",
    "        max_depth=None,   # expand until all leaves are pure or contain < MIN_SAMPLES_SPLIT samples\n",
    "        min_samples_split=10,\n",
    "        min_samples_leaf=5,\n",
    "        min_weight_fraction_leaf=0.0,\n",
    "        max_features=None,   # number of features to consider when looking for the best split; None: max_features=n_features\n",
    "        max_leaf_nodes=None,   # None: unlimited number of leaf nodes\n",
    "        random_state=RANDOM_SEED)\n",
    "\n",
    "tree_model.fit(\n",
    "    X=boston_housing_df[['lstat']],\n",
    "    y=boston_housing_df.medv)\n",
    "\n",
    "boston_housing_df['predicted_medv'] = \\\n",
    "    tree_model.predict(\n",
    "        X=boston_housing_df[['lstat']])\n",
    "\n",
    "plot_boston_housing_data(\n",
    "    boston_housing_df,\n",
    "    title='Complex Tree Model')"
   ]
  },
  {
   "cell_type": "markdown",
   "metadata": {},
   "source": [
    "Now, with the new parameters, we have a more complex model that is **low-bias**, **high-variance**.\n",
    "\n",
    "Fitting a good model with a single tree is difficult, largely because a single tree is fit using a greedy heuristic that may not be optimal in the first place.\n",
    "\n",
    "In practice, trees are almost always used in an **ensemble modeling** manner. The computational inexpensiveness of individual trees allow numerous trees to be fitted in acceptable run times, and collected into an \"ensemble\" of fitted models, the predictions of which are combined in certain ways. Two prominent ensemble methods are **bagging** (**_bootstrap aggregating_**) and **boosting**."
   ]
  },
  {
   "cell_type": "markdown",
   "metadata": {},
   "source": [
    "## Bagging and Random Forests\n",
    "\n",
    "With the [**bagging**](http://en.wikipedia.org/wiki/Bootstrap_aggregating) method, $B$ models of a certain kind (usually, but not necessarily, tree models) are fitted on $B$ bootstrap samples of the training data set, and their **predictions are averaged** to produce the ensemble prediction function.\n",
    "\n",
    "- Each **individual model** among the $B$ model should be a **sufficiently-complex, low-bias** model &ndash; which also means that each individual model is likely to have **high variance**;\n",
    "- The low bias of each model will result in an **average ensemble model that also has low bias**; and\n",
    "- In order to make the ensemble model also have low variance, we select a large enough number $B$, so that individual models' high variances offset each other in the aggregate!\n",
    "\n",
    "The application of \"bagging\" using tree models is called **Random Forest**:"
   ]
  },
  {
   "cell_type": "code",
   "execution_count": 10,
   "metadata": {},
   "outputs": [
    {
     "data": {
      "image/png": "[encoded data removed]"
     },
     "output_type": "display_data",
     "metadata": {}
    },
    {
     "data": {
      "text/plain": [
       "<ggplot: (8726851599089)>"
      ]
     },
     "execution_count": 10,
     "output_type": "execute_result",
     "metadata": {}
    }
   ],
   "source": [
    "B = 5000\n",
    "\n",
    "rf_model = \\\n",
    "    RandomForestRegressor(\n",
    "        n_estimators=B,\n",
    "        criterion='mse',\n",
    "        max_depth=None,   # expand until all leaves are pure or contain < MIN_SAMPLES_SPLIT samples\n",
    "        min_samples_split=20,\n",
    "        min_samples_leaf=10,\n",
    "        min_weight_fraction_leaf=0.0,\n",
    "        max_features='auto',   # number of features to consider when looking for the best split; \"auto\": max_features=n_features\n",
    "        max_leaf_nodes=None,   # None: unlimited number of leaf nodes\n",
    "        bootstrap=True,\n",
    "        oob_score=True,   # estimate Out-of-Bag RMSE\n",
    "        n_jobs=multiprocessing.cpu_count() - 2,   # paralellize over all CPU cores but 2\n",
    "        random_state=RANDOM_SEED,\n",
    "        verbose=0,\n",
    "        warm_start=False)\n",
    "\n",
    "rf_model.fit(\n",
    "    X=boston_housing_df[['lstat']],\n",
    "    y=boston_housing_df.medv)\n",
    "\n",
    "boston_housing_df['predicted_medv'] = \\\n",
    "    rf_model.predict(X=boston_housing_df[['lstat']])\n",
    "\n",
    "plot_boston_housing_data(\n",
    "    boston_housing_df,\n",
    "    title='Random Forest Model')"
   ]
  },
  {
   "cell_type": "markdown",
   "metadata": {},
   "source": [
    "We can see that the average prediction of many trees in the Random Forest does well in capturing the signal in the data. We'd be reasonably happy with such a predictive model. The estimated Out-of-Bag (OOB) RMSE of this model is:"
   ]
  },
  {
   "cell_type": "code",
   "execution_count": 11,
   "metadata": {},
   "outputs": [
    {
     "data": {
      "text/plain": [
       "5.3780027857772907"
      ]
     },
     "execution_count": 11,
     "output_type": "execute_result",
     "metadata": {}
    }
   ],
   "source": [
    "# note that the \"oob_score_\" provided by SciKit is the estimated Out-of-Bag R^2\n",
    "# from R^2 we can derive a rough RMSE\n",
    "numpy.sqrt(boston_housing_df['medv'].var() * (1 - rf_model.oob_score_))"
   ]
  },
  {
   "cell_type": "markdown",
   "metadata": {},
   "source": [
    "## Boosting\n",
    "\n",
    "With the <a href=\"http://en.wikipedia.org/wiki/Boosting_(machine_learning)\">**boosting**</a> method, we successively advance towards a good model fit by adding up small fractions / proportions of relatively simple models that have low variances but possibly high biases. The key intuition is as follows:\n",
    "\n",
    "- Because individual models are simple and have low variance, the combined additive ensemble model is also likely to have low variance; and\n",
    "- Because models are successively fit to capture the residuals left over from the previous models, models' biases are likely to offset each other, resulting in an additive ensemble model with low bias!\n",
    "\n",
    "Let's now build a tree ensemble using boosting:"
   ]
  },
  {
   "cell_type": "code",
   "execution_count": 12,
   "metadata": {},
   "outputs": [
    {
     "data": {
      "image/png": "[encoded data removed]"
     },
     "output_type": "display_data",
     "metadata": {}
    },
    {
     "data": {
      "text/plain": [
       "<ggplot: (8726851518633)>"
      ]
     },
     "execution_count": 12,
     "output_type": "execute_result",
     "metadata": {}
    }
   ],
   "source": [
    "boost_model = \\\n",
    "    GradientBoostingRegressor(\n",
    "        n_estimators=B,\n",
    "        loss='ls',   # Least-Squares objective loss function\n",
    "        learning_rate=.001,   # shrinkage parameter\n",
    "        subsample=1.0,\n",
    "        min_samples_split=80,\n",
    "        min_samples_leaf=40,\n",
    "        min_weight_fraction_leaf=0.0,\n",
    "        max_depth=10,   # maximum tree depth / number of levels of interaction\n",
    "        init=None,\n",
    "        random_state=RANDOM_SEED,\n",
    "        max_features=None,   # number of features to consider when looking for the best split; None: max_features=n_features\n",
    "        alpha=.9,   # NOT RELEVANT for Least-Squares loss function\n",
    "        verbose=0,\n",
    "        max_leaf_nodes=None,   # None: unlimited number of leaf nodes\n",
    "        warm_start=False)\n",
    "\n",
    "boost_model.fit(\n",
    "    X=boston_housing_df[['lstat']],\n",
    "    y=boston_housing_df.medv)\n",
    "\n",
    "boston_housing_df['predicted_medv'] = \\\n",
    "    boost_model.predict(\n",
    "        X=boston_housing_df[['lstat']])\n",
    "\n",
    "plot_boston_housing_data(\n",
    "    boston_housing_df,\n",
    "    title='Boosted Trees Model')"
   ]
  },
  {
   "cell_type": "markdown",
   "metadata": {},
   "source": [
    "This Boosted Trees ensemble model also looks fair, and its OOS RSME can be estimated using Cross Validation as follows:"
   ]
  },
  {
   "cell_type": "code",
   "execution_count": 13,
   "metadata": {},
   "outputs": [
    {
     "data": {
      "text/plain": [
       "5.3782091513995605"
      ]
     },
     "execution_count": 13,
     "output_type": "execute_result",
     "metadata": {}
    }
   ],
   "source": [
    "def mse_score(estimator, X, y):\n",
    "    y_hat = estimator.predict(X)\n",
    "    return mse(y_hat, y)\n",
    "\n",
    "numpy.sqrt(\n",
    "    cross_val_score(\n",
    "        boost_model,\n",
    "        X=boston_housing_df[['lstat']],\n",
    "        y=boston_housing_df.medv,\n",
    "        cv=KFold(n=nb_samples,\n",
    "                 n_folds=5,   # 5-fold cross validation\n",
    "                 shuffle=True),\n",
    "        scoring=mse_score).mean())"
   ]
  },
  {
   "cell_type": "markdown",
   "metadata": {},
   "source": [
    "# Multivariate Models\n",
    "\n",
    "Besides their computation inexpensiveness, another _huge_ advantage of using trees-based algorithms is that they are very scalable to multivariate models, and deals with variable interactions very nicely without the need of standard scaling.\n",
    "\n",
    "Let's build multivariate Random Forest and Boosted Trees models to predict _medv_ using all other variables in the Boston Housing data set:"
   ]
  },
  {
   "cell_type": "code",
   "execution_count": 14,
   "metadata": {},
   "outputs": [],
   "source": [
    "boston_housing_df.drop(\n",
    "    'predicted_medv',\n",
    "    axis=1,\n",
    "    inplace=True)   # remove predicted values column"
   ]
  },
  {
   "cell_type": "code",
   "execution_count": 15,
   "metadata": {},
   "outputs": [],
   "source": [
    "nb_columns = len(boston_housing_df.columns)\n",
    "X_column_names = boston_housing_df.columns[:(nb_columns - 1)]"
   ]
  },
  {
   "cell_type": "code",
   "execution_count": 16,
   "metadata": {},
   "outputs": [],
   "source": [
    "rf_model.fit(\n",
    "    X=boston_housing_df[X_column_names],\n",
    "    y=boston_housing_df.medv)\n",
    "\n",
    "rf_predictions = \\\n",
    "    rf_model.predict(\n",
    "        X=boston_housing_df[X_column_names])"
   ]
  },
  {
   "cell_type": "markdown",
   "metadata": {},
   "source": [
    "The multivariate Random Forest has an estimated OOB RMSE of:"
   ]
  },
  {
   "cell_type": "code",
   "execution_count": 17,
   "metadata": {},
   "outputs": [
    {
     "data": {
      "text/plain": [
       "3.9317893583446653"
      ]
     },
     "execution_count": 17,
     "output_type": "execute_result",
     "metadata": {}
    }
   ],
   "source": [
    "numpy.sqrt(boston_housing_df['medv'].var() * (1 - rf_model.oob_score_))"
   ]
  },
  {
   "cell_type": "markdown",
   "metadata": {},
   "source": [
    "which is clearly better than that of the univariate Random Forest model."
   ]
  },
  {
   "cell_type": "code",
   "execution_count": 18,
   "metadata": {},
   "outputs": [],
   "source": [
    "boost_model.fit(\n",
    "    X=boston_housing_df[X_column_names],\n",
    "    y=boston_housing_df.medv)\n",
    "\n",
    "boost_predictions = \\\n",
    "    boost_model.predict(\n",
    "        X=boston_housing_df[X_column_names])"
   ]
  },
  {
   "cell_type": "markdown",
   "metadata": {},
   "source": [
    "The multivariate Boosted Trees model has an estimated Cross Validation-estimated OOS RMSE of:"
   ]
  },
  {
   "cell_type": "code",
   "execution_count": 19,
   "metadata": {},
   "outputs": [
    {
     "data": {
      "text/plain": [
       "3.8014092481104038"
      ]
     },
     "execution_count": 19,
     "output_type": "execute_result",
     "metadata": {}
    }
   ],
   "source": [
    "numpy.sqrt(\n",
    "    cross_val_score(\n",
    "        boost_model,\n",
    "        X=boston_housing_df[X_column_names],\n",
    "        y=boston_housing_df.medv,\n",
    "        cv=KFold(n=nb_samples,\n",
    "                 n_folds=5,   # 5-fold cross validation\n",
    "                 shuffle=True),\n",
    "        scoring=mse_score).mean())"
   ]
  },
  {
   "cell_type": "markdown",
   "metadata": {},
   "source": [
    "again a clear improvement from the univariate Boosted Trees model."
   ]
  },
  {
   "cell_type": "markdown",
   "metadata": {},
   "source": [
    "We can also see that the two models' prediction are pretty aligned:"
   ]
  },
  {
   "cell_type": "code",
   "execution_count": 20,
   "metadata": {},
   "outputs": [
    {
     "data": {
      "text/plain": [
       "<matplotlib.text.Text at 0x7efe0d003d90>"
      ]
     },
     "execution_count": 20,
     "output_type": "execute_result",
     "metadata": {}
    },
    {
     "data": {
      "image/png": "[encoded data removed]"
     },
     "output_type": "display_data",
     "metadata": {}
    }
   ],
   "source": [
    "pyplot.scatter(\n",
    "    x=rf_predictions,\n",
    "    y=boost_predictions)\n",
    "\n",
    "pyplot.title('Random Forest vs. Boosted Trees predictions')"
   ]
  },
  {
   "cell_type": "markdown",
   "metadata": {},
   "source": [
    "The two models also agree on the most important variables:"
   ]
  },
  {
   "cell_type": "code",
   "execution_count": 21,
   "metadata": {},
   "outputs": [
    {
     "data": {
      "text/html": [
       "<div>\n",
       "<table border=\"1\" class=\"dataframe\">\n",
       "  <thead>\n",
       "    <tr style=\"text-align: right;\">\n",
       "      <th></th>\n",
       "      <th>RandomForest_VarImp</th>\n",
       "      <th>BoostedTrees_VarImp</th>\n",
       "    </tr>\n",
       "  </thead>\n",
       "  <tbody>\n",
       "    <tr>\n",
       "      <th>crim</th>\n",
       "      <td>0.028708</td>\n",
       "      <td>0.035551</td>\n",
       "    </tr>\n",
       "    <tr>\n",
       "      <th>zn</th>\n",
       "      <td>0.000464</td>\n",
       "      <td>0.000013</td>\n",
       "    </tr>\n",
       "    <tr>\n",
       "      <th>indus</th>\n",
       "      <td>0.002540</td>\n",
       "      <td>0.009487</td>\n",
       "    </tr>\n",
       "    <tr>\n",
       "      <th>chas</th>\n",
       "      <td>0.000030</td>\n",
       "      <td>0.000000</td>\n",
       "    </tr>\n",
       "    <tr>\n",
       "      <th>nox</th>\n",
       "      <td>0.016622</td>\n",
       "      <td>0.086986</td>\n",
       "    </tr>\n",
       "    <tr>\n",
       "      <th>rm</th>\n",
       "      <td>0.473038</td>\n",
       "      <td>0.224030</td>\n",
       "    </tr>\n",
       "    <tr>\n",
       "      <th>age</th>\n",
       "      <td>0.009487</td>\n",
       "      <td>0.033198</td>\n",
       "    </tr>\n",
       "    <tr>\n",
       "      <th>dis</th>\n",
       "      <td>0.015246</td>\n",
       "      <td>0.162538</td>\n",
       "    </tr>\n",
       "    <tr>\n",
       "      <th>rad</th>\n",
       "      <td>0.002399</td>\n",
       "      <td>0.015372</td>\n",
       "    </tr>\n",
       "    <tr>\n",
       "      <th>tax</th>\n",
       "      <td>0.005605</td>\n",
       "      <td>0.035650</td>\n",
       "    </tr>\n",
       "    <tr>\n",
       "      <th>ptratio</th>\n",
       "      <td>0.007413</td>\n",
       "      <td>0.056378</td>\n",
       "    </tr>\n",
       "    <tr>\n",
       "      <th>black</th>\n",
       "      <td>0.003221</td>\n",
       "      <td>0.030227</td>\n",
       "    </tr>\n",
       "    <tr>\n",
       "      <th>lstat</th>\n",
       "      <td>0.435227</td>\n",
       "      <td>0.310571</td>\n",
       "    </tr>\n",
       "  </tbody>\n",
       "</table>\n",
       "</div>"
      ]
     },
     "output_type": "execute_result",
     "metadata": {}
    }
   ],
   "source": [
    "feature_importances = \\\n",
    "    pandas.DataFrame(\n",
    "        index=X_column_names)\n",
    "\n",
    "feature_importances['RandomForest_VarImp'] = \\\n",
    "    rf_model.feature_importances_\n",
    "\n",
    "feature_importances['BoostedTrees_VarImp'] = \\\n",
    "    boost_model.feature_importances_\n",
    "    \n",
    "feature_importances"
   ]
  },
  {
   "cell_type": "markdown",
   "metadata": {},
   "source": [
    "# _BONUS:_ Apache Spark solution\n",
    "\n",
    "The following uses Apache Spark to solve the same problem (pretending that the data were much larger)"
   ]
  },
  {
   "cell_type": "code",
   "execution_count": 22,
   "metadata": {},
   "outputs": [],
   "source": [
    "# Apache Spark settings\n",
    "if AWS_EMR_MODE:\n",
    "    SPARK_MODE = 'yarn-client'                 # running Spark on AWS EMR YARN cluster\n",
    "    SPARK_HOME = '/usr/lib/spark'              # default Spark installation folder on AWS EMR master node\n",
    "    SPARK_DRIVER_MEMORY = '9g'                 # memory allocated to MapReduce driver process\n",
    "    SPARK_EXECUTOR_MEMORY = '3g'               # memory allocated to each MapReduce executor process\n",
    "    SPARK_DRIVER_MAX_RESULT_SIZE = '6g'        # maximum size of objects collected back to MapReduce driver process\n",
    "else:\n",
    "    SPARK_MODE = 'local'                       # running Spark on single machine\n",
    "    SPARK_HOME = '/Applications/spark-1.5.2'   # Spark installation folder on my machine\n",
    "    SPARK_DRIVER_MEMORY = '5g'                 # memory allocated to MapReduce driver process \n",
    "    SPARK_EXECUTOR_MEMORY = '1g'               # memory allocated to each MapReduce executor process\n",
    "    SPARK_DRIVER_MAX_RESULT_SIZE = '3g'        # maximum size of objects collected back to MapReduce driver process"
   ]
  },
  {
   "cell_type": "markdown",
   "metadata": {},
   "source": [
    "## Import PySpark and initialize SparkContext & HiveContext"
   ]
  },
  {
   "cell_type": "code",
   "execution_count": 23,
   "metadata": {},
   "outputs": [
    {
     "name": "stdout",
     "output_type": "stream",
     "text": [
      "SparkContext: <pyspark.context.SparkContext object at 0x7efe0e11bc10>\n",
      "HiveContext: <pyspark.sql.context.HiveContext object at 0x7efe0cde92d0>\n"
     ]
    }
   ],
   "source": [
    "if 'pyspark' not in vars():   # set up Apache Spark environment if not yet done so\n",
    "    \n",
    "    # set environment variables for Spark\n",
    "    os.environ['SPARK_HOME'] = SPARK_HOME\n",
    "    os.environ['SPARK_HIVE'] = 'true'\n",
    "    \n",
    "    # enable importing of PySpark through FindSpark package\n",
    "    import findspark\n",
    "    findspark.init()\n",
    "    \n",
    "    # import PySpark and set up SparkContext (\"sc\") & HiveContext (\"hc\")\n",
    "    import pyspark\n",
    "    \n",
    "    sc = pyspark.SparkContext(\n",
    "        conf=pyspark.SparkConf()\n",
    "            .setMaster(SPARK_MODE)\n",
    "            .setAppName('BostonHousing')\n",
    "            .set('spark.driver.memory', SPARK_DRIVER_MEMORY)\n",
    "            .set('spark.executor.memory', SPARK_EXECUTOR_MEMORY)\n",
    "            .set('spark.driver.maxResultSize', SPARK_DRIVER_MAX_RESULT_SIZE))\n",
    "    \n",
    "    hc = pyspark.sql.HiveContext(sc)\n",
    "    \n",
    "print('SparkContext:', sc)\n",
    "print('HiveContext:', hc)"
   ]
  },
  {
   "cell_type": "code",
   "execution_count": 24,
   "metadata": {},
   "outputs": [],
   "source": [
    "# imports from PySpark\n",
    "from pyspark.ml import Pipeline\n",
    "from pyspark.ml.feature import VectorAssembler\n",
    "from pyspark.ml.evaluation import RegressionEvaluator\n",
    "from pyspark.ml.regression import \\\n",
    "    GBTRegressor as SparkML_GBTRegressor, \\\n",
    "    RandomForestRegressor as SparkML_RandomForestRegressor\n",
    "from pyspark.ml.tuning import CrossValidator, ParamGridBuilder"
   ]
  },
  {
   "cell_type": "markdown",
   "metadata": {},
   "source": [
    "## Download Spark CSV Parser & add it into SparkContext"
   ]
  },
  {
   "cell_type": "code",
   "execution_count": 25,
   "metadata": {},
   "outputs": [
    {
     "name": "stdout",
     "output_type": "stream",
     "text": [
      "  % Total    % Received % Xferd  Average Speed   Time    Time     Time  Current\n",
      "                                 Dload  Upload   Total   Spent    Left  Speed\n",
      "100  5493  100  5493    0     0  20468      0 --:--:-- --:--:-- --:--:-- 20496\n"
     ]
    }
   ],
   "source": [
    "!curl https://raw.githubusercontent.com/seahboonsiew/pyspark-csv/master/pyspark_csv.py --output pyspark_csv.py\n",
    "\n",
    "sc.addPyFile('pyspark_csv.py')\n",
    "\n",
    "from pyspark_csv import csvToDataFrame"
   ]
  },
  {
   "cell_type": "markdown",
   "metadata": {},
   "source": [
    "## Download Data"
   ]
  },
  {
   "cell_type": "code",
   "execution_count": 26,
   "metadata": {},
   "outputs": [],
   "source": [
    "os.system('curl %s --output %s' %(DATA_URL, DATA_FILE_NAME))\n",
    "\n",
    "if AWS_EMR_MODE:\n",
    "    os.system('hadoop fs -put %s %s' % (DATA_FILE_NAME, DATA_FILE_NAME))"
   ]
  },
  {
   "cell_type": "markdown",
   "metadata": {},
   "source": [
    "## Import Data as Spark DataFrame and produce Train & Test sets"
   ]
  },
  {
   "cell_type": "code",
   "execution_count": 27,
   "metadata": {},
   "outputs": [
    {
     "name": "stdout",
     "output_type": "stream",
     "text": [
      "+-------+----+-----+----+-----+-----+-----+------+---+---+-------+------+-----+----+\n",
      "|   crim|  zn|indus|chas|  nox|   rm|  age|   dis|rad|tax|ptratio| black|lstat|medv|\n",
      "+-------+----+-----+----+-----+-----+-----+------+---+---+-------+------+-----+----+\n",
      "|0.00632|18.0| 2.31|   0|0.538|6.575| 65.2|  4.09|  1|296|   15.3| 396.9| 4.98|24.0|\n",
      "|0.02731| 0.0| 7.07|   0|0.469|6.421| 78.9|4.9671|  2|242|   17.8| 396.9| 9.14|21.6|\n",
      "|0.02729| 0.0| 7.07|   0|0.469|7.185| 61.1|4.9671|  2|242|   17.8|392.83| 4.03|34.7|\n",
      "|0.03237| 0.0| 2.18|   0|0.458|6.998| 45.8|6.0622|  3|222|   18.7|394.63| 2.94|33.4|\n",
      "|0.06905| 0.0| 2.18|   0|0.458|7.147| 54.2|6.0622|  3|222|   18.7| 396.9| 5.33|36.2|\n",
      "|0.02985| 0.0| 2.18|   0|0.458| 6.43| 58.7|6.0622|  3|222|   18.7|394.12| 5.21|28.7|\n",
      "|0.08829|12.5| 7.87|   0|0.524|6.012| 66.6|5.5605|  5|311|   15.2| 395.6|12.43|22.9|\n",
      "|0.14455|12.5| 7.87|   0|0.524|6.172| 96.1|5.9505|  5|311|   15.2| 396.9|19.15|27.1|\n",
      "|0.21124|12.5| 7.87|   0|0.524|5.631|100.0|6.0821|  5|311|   15.2|386.63|29.93|16.5|\n",
      "+-------+----+-----+----+-----+-----+-----+------+---+---+-------+------+-----+----+\n",
      "only showing top 9 rows\n",
      "\n"
     ]
    }
   ],
   "source": [
    "boston_housing_ddf = \\\n",
    "    csvToDataFrame(\n",
    "        sqlCtx=hc,\n",
    "        rdd=sc.textFile(DATA_FILE_NAME),\n",
    "        columns=None,\n",
    "        sep=',',\n",
    "        parseDate=True)\\\n",
    "    .cache()\n",
    "\n",
    "boston_housing_ddf.registerTempTable('boston_housing')\n",
    "\n",
    "boston_housing_ddf.show(NB_EXAMPLES_TO_SHOW)"
   ]
  },
  {
   "cell_type": "code",
   "execution_count": 28,
   "metadata": {},
   "outputs": [],
   "source": [
    "boston_housing_train_ddf, boston_housing_test_ddf = \\\n",
    "    boston_housing_ddf.randomSplit(\n",
    "        weights=[.75, .25],\n",
    "        seed=RANDOM_SEED)"
   ]
  },
  {
   "cell_type": "markdown",
   "metadata": {},
   "source": [
    "## Preparing the Pipeline Components"
   ]
  },
  {
   "cell_type": "code",
   "execution_count": 29,
   "metadata": {},
   "outputs": [],
   "source": [
    "# to assemble columns into vector\n",
    "feature_vector_assembler = \\\n",
    "    VectorAssembler(\n",
    "        inputCols=['crim', 'zn', 'indus', 'chas', 'nox', 'rm', 'age',\n",
    "                   'dis', 'rad', 'tax', 'ptratio', 'black', 'lstat'],\n",
    "        outputCol='boston_housing_features')"
   ]
  },
  {
   "cell_type": "code",
   "execution_count": 30,
   "metadata": {},
   "outputs": [],
   "source": [
    "# Random Forest Regressor and Parameter Grid\n",
    "rf_regressor = \\\n",
    "    SparkML_RandomForestRegressor(\n",
    "        featuresCol='boston_housing_features',\n",
    "        labelCol='medv',\n",
    "        predictionCol='predicted_medv',\n",
    "        maxDepth=9,\n",
    "        maxBins=32,\n",
    "        minInstancesPerNode=1,\n",
    "        minInfoGain=0.,\n",
    "        maxMemoryInMB=256,\n",
    "        cacheNodeIds=False,\n",
    "        checkpointInterval=10,\n",
    "        seed=None,\n",
    "        impurity='variance',\n",
    "        numTrees=900,\n",
    "        featureSubsetStrategy='auto')\n",
    "    \n",
    "# rf_param_grid = \\\n",
    "#     ParamGridBuilder()\\\n",
    "#     .addGrid(rf_regressor.numTrees, [300, 600])\\\n",
    "#     .addGrid(rf_regressor.maxDepth, [3, 6])\\\n",
    "#     .build()\n",
    "\n",
    "# create Pipeline Estimator\n",
    "rf_pipeline_estimator = \\\n",
    "    Pipeline(\n",
    "        stages=[feature_vector_assembler,\n",
    "                rf_regressor])"
   ]
  },
  {
   "cell_type": "code",
   "execution_count": 31,
   "metadata": {},
   "outputs": [],
   "source": [
    "# Gradient Boosted Trees Regressor and Parameter Grid\n",
    "gbt_regressor = \\\n",
    "    SparkML_GBTRegressor(\n",
    "        featuresCol='boston_housing_features',\n",
    "        labelCol='medv',\n",
    "        predictionCol='predicted_medv',\n",
    "        maxDepth=3,\n",
    "        maxBins=32,\n",
    "        minInstancesPerNode=1,\n",
    "        minInfoGain=0.,\n",
    "        maxMemoryInMB=256,\n",
    "        cacheNodeIds=False,\n",
    "        checkpointInterval=10,\n",
    "        lossType='squared',\n",
    "        maxIter=300,   # currently can only do small number of boosted trees to avoid stack overflow\n",
    "        stepSize=.1)\n",
    "    \n",
    "# gbt_param_grid = \\\n",
    "#     ParamGridBuilder()\\\n",
    "#     .addGrid(gbt_regressor.maxIter, [300, 600])\\\n",
    "#     .addGrid(gbt_regressor.maxDepth, [3, 6])\\\n",
    "#     .build()\n",
    "\n",
    "# create Pipeline Estimator\n",
    "gbt_pipeline_estimator = \\\n",
    "    Pipeline(\n",
    "        stages=[feature_vector_assembler,\n",
    "                gbt_regressor])"
   ]
  },
  {
   "cell_type": "code",
   "execution_count": 32,
   "metadata": {},
   "outputs": [],
   "source": [
    "# set evaluator\n",
    "regression_evaluator = \\\n",
    "    RegressionEvaluator(\n",
    "        predictionCol='predicted_medv',\n",
    "        labelCol='medv',\n",
    "        metricName='rmse')"
   ]
  },
  {
   "cell_type": "code",
   "execution_count": 33,
   "metadata": {},
   "outputs": [],
   "source": [
    "# create Cross Validators - SKIPPED BECAUSE OF STACK OVERFLOW\n",
    "# rf_cross_validator = \\\n",
    "#     CrossValidator(\n",
    "#         estimator=rf_pipeline_estimator,\n",
    "#         estimatorParamMaps=rf_param_grid,\n",
    "#         evaluator=regression_evaluator,\n",
    "#         numFolds=5)\n",
    "    \n",
    "# gbt_cross_validator = \\\n",
    "#     CrossValidator(\n",
    "#         estimator=gbt_pipeline_estimator,\n",
    "#         estimatorParamMaps=gbt_param_grid,\n",
    "#         evaluator=regression_evaluator,\n",
    "#         numFolds=5)"
   ]
  },
  {
   "cell_type": "markdown",
   "metadata": {},
   "source": [
    "## Run 2 Regression Pipelines"
   ]
  },
  {
   "cell_type": "code",
   "execution_count": 34,
   "metadata": {},
   "outputs": [],
   "source": [
    "# fit Random Forest Regressor\n",
    "rf_pipeline_model = \\\n",
    "    rf_pipeline_estimator.fit(\n",
    "        dataset=boston_housing_train_ddf)"
   ]
  },
  {
   "cell_type": "code",
   "execution_count": 35,
   "metadata": {},
   "outputs": [],
   "source": [
    "# fit Gradient Boosted Trees Regressor\n",
    "gbt_pipeline_model = \\\n",
    "    gbt_pipeline_estimator.fit(\n",
    "        dataset=boston_housing_train_ddf)"
   ]
  },
  {
   "cell_type": "markdown",
   "metadata": {},
   "source": [
    "## Make Predictions"
   ]
  },
  {
   "cell_type": "code",
   "execution_count": 36,
   "metadata": {},
   "outputs": [
    {
     "name": "stdout",
     "output_type": "stream",
     "text": [
      "+----+------------------+\n",
      "|medv|    predicted_medv|\n",
      "+----+------------------+\n",
      "|16.5|19.231817929116858|\n",
      "|18.9|19.457977125074336|\n",
      "|20.4|20.072576061005222|\n",
      "|17.5|18.293477215375372|\n",
      "|20.2|18.007656594104056|\n",
      "|15.6| 16.44988116271545|\n",
      "|16.6|17.420302933509294|\n",
      "|24.7|  20.7061688400814|\n",
      "|25.3|24.579282007294076|\n",
      "+----+------------------+\n",
      "only showing top 9 rows\n",
      "\n"
     ]
    }
   ],
   "source": [
    "rf_test_predictions_ddf = \\\n",
    "    rf_pipeline_model.transform(\n",
    "        dataset=boston_housing_test_ddf)\\\n",
    "    .cache()\n",
    "    \n",
    "rf_test_predictions_ddf\\\n",
    "    .select('medv', 'predicted_medv')\\\n",
    "    .show(NB_EXAMPLES_TO_SHOW)"
   ]
  },
  {
   "cell_type": "code",
   "execution_count": 37,
   "metadata": {},
   "outputs": [
    {
     "name": "stdout",
     "output_type": "stream",
     "text": [
      "+----+------------------+\n",
      "|medv|    predicted_medv|\n",
      "+----+------------------+\n",
      "|16.5|20.771520254269586|\n",
      "|18.9| 16.39457249493929|\n",
      "|20.4|19.625686065374193|\n",
      "|17.5|16.613685440652475|\n",
      "|20.2|17.377633426898242|\n",
      "|15.6| 16.01975158129711|\n",
      "|16.6|15.189446069130172|\n",
      "|24.7|22.577153923073638|\n",
      "|25.3| 24.07098396858869|\n",
      "+----+------------------+\n",
      "only showing top 9 rows\n",
      "\n"
     ]
    }
   ],
   "source": [
    "gbt_test_predictions_ddf = \\\n",
    "    gbt_pipeline_model.transform(\n",
    "        dataset=boston_housing_test_ddf)\\\n",
    "    .cache()\n",
    "    \n",
    "gbt_test_predictions_ddf\\\n",
    "    .select('medv', 'predicted_medv')\\\n",
    "    .show(NB_EXAMPLES_TO_SHOW)"
   ]
  },
  {
   "cell_type": "code",
   "execution_count": 38,
   "metadata": {},
   "outputs": [
    {
     "data": {
      "text/plain": [
       "<matplotlib.text.Text at 0x7efe0dfae0d0>"
      ]
     },
     "execution_count": 38,
     "output_type": "execute_result",
     "metadata": {}
    },
    {
     "data": {
      "image/png": "[encoded data removed]"
     },
     "output_type": "display_data",
     "metadata": {}
    }
   ],
   "source": [
    "# plot predictions against each other\n",
    "pyplot.scatter(\n",
    "    x=rf_test_predictions_ddf.select('predicted_medv').rdd.collect(),\n",
    "    y=gbt_test_predictions_ddf.select('predicted_medv').rdd.collect())\n",
    "\n",
    "pyplot.title('Random Forest vs. Boosted Trees predictions')"
   ]
  },
  {
   "cell_type": "markdown",
   "metadata": {},
   "source": [
    "## Evaluate models"
   ]
  },
  {
   "cell_type": "code",
   "execution_count": 39,
   "metadata": {},
   "outputs": [
    {
     "data": {
      "text/plain": [
       "3.227049077856861"
      ]
     },
     "execution_count": 39,
     "output_type": "execute_result",
     "metadata": {}
    }
   ],
   "source": [
    "rf_rmse = \\\n",
    "    regression_evaluator.evaluate(\n",
    "        dataset=rf_test_predictions_ddf)\n",
    "    \n",
    "rf_rmse"
   ]
  },
  {
   "cell_type": "code",
   "execution_count": 40,
   "metadata": {},
   "outputs": [
    {
     "data": {
      "text/plain": [
       "4.52946097127153"
      ]
     },
     "execution_count": 40,
     "output_type": "execute_result",
     "metadata": {}
    }
   ],
   "source": [
    "gbt_rmse = \\\n",
    "    regression_evaluator.evaluate(\n",
    "        dataset=gbt_test_predictions_ddf)\n",
    "    \n",
    "gbt_rmse"
   ]
  }
 ],
 "metadata": {
  "kernelspec": {
   "display_name": "Python 2",
   "language": "python",
   "name": "python2"
  },
  "language_info": {
   "codemirror_mode": {
    "name": "ipython",
    "version": 2.0
   },
   "file_extension": ".py",
   "mimetype": "text/x-python",
   "name": "python",
   "nbconvert_exporter": "python",
   "pygments_lexer": "ipython2",
   "version": "2.7.10"
  }
 },
 "nbformat": 4,
 "nbformat_minor": 0
}