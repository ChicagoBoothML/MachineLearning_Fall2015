{
 "cells": [
  {
   "cell_type": "markdown",
   "metadata": {},
   "source": [
    "# _import modules & set constants:_"
   ]
  },
  {
   "cell_type": "code",
   "execution_count": 1,
   "metadata": {},
   "outputs": [],
   "source": [
    "# enable in-line MatPlotLib\n",
    "%matplotlib inline"
   ]
  },
  {
   "cell_type": "code",
   "execution_count": 2,
   "metadata": {},
   "outputs": [],
   "source": [
    "# import:\n",
    "from __future__ import division, print_function\n",
    "from matplotlib import pyplot\n",
    "import multiprocessing\n",
    "import numpy\n",
    "import os\n",
    "import pandas\n",
    "from sklearn.cross_validation import train_test_split\n",
    "from sklearn.ensemble import GradientBoostingClassifier, RandomForestClassifier\n",
    "from sklearn.linear_model import LogisticRegression\n",
    "from sklearn.preprocessing import StandardScaler"
   ]
  },
  {
   "cell_type": "code",
   "execution_count": 3,
   "metadata": {},
   "outputs": [],
   "source": [
    "# set CONSTANTS\n",
    "\n",
    "# using AWS EMR?\n",
    "AWS_EMR_MODE = os.path.expanduser('~') == '/home/hadoop'\n",
    "\n",
    "# data paths\n",
    "DATA_FILE_NAME = 'CreditScoring.csv'\n",
    "DATA_URL = \\\n",
    "    'https://raw.githubusercontent.com/ChicagoBoothML/DATA___Kaggle___GiveMeSomeCredit/master/%s' % DATA_FILE_NAME\n",
    "\n",
    "# number of examples to display for a data set\n",
    "NB_EXAMPLES_TO_SHOW = 9\n",
    "\n",
    "# random_seed\n",
    "RANDOM_SEED = 99"
   ]
  },
  {
   "cell_type": "code",
   "execution_count": 4,
   "metadata": {},
   "outputs": [],
   "source": [
    "# install ChicagoBoothML_Helpy\n",
    "CHICAGOBOOTHML_HELPY_INSTALLATION_COMMAND = \\\n",
    "    'pip install --upgrade git+git://GitHub.com/ChicagoBoothML/Helpy --no-dependencies'\n",
    "if AWS_EMR_MODE:\n",
    "    os.system('sudo %s' % CHICAGOBOOTHML_HELPY_INSTALLATION_COMMAND)\n",
    "else:\n",
    "    os.system(CHICAGOBOOTHML_HELPY_INSTALLATION_COMMAND)\n",
    "\n",
    "# import from package\n",
    "from ChicagoBoothML_Helpy.EvaluationMetrics import bin_classif_eval\n",
    "from ChicagoBoothML_Helpy.Print import printflush"
   ]
  },
  {
   "cell_type": "markdown",
   "metadata": {},
   "source": [
    "# import Kaggle's _\"Give Me Some Credit\"_ data set"
   ]
  },
  {
   "cell_type": "code",
   "execution_count": 5,
   "metadata": {},
   "outputs": [
    {
     "data": {
      "text/html": [
       "<div>\n",
       "<table border=\"1\" class=\"dataframe\">\n",
       "  <thead>\n",
       "    <tr style=\"text-align: right;\">\n",
       "      <th></th>\n",
       "      <th>SeriousDlqin2yrs</th>\n",
       "      <th>RevolvingUtilizationOfUnsecuredLines</th>\n",
       "      <th>age</th>\n",
       "      <th>NumberOfTime30-59DaysPastDueNotWorse</th>\n",
       "      <th>DebtRatio</th>\n",
       "      <th>MonthlyIncome</th>\n",
       "      <th>NumberOfOpenCreditLinesAndLoans</th>\n",
       "      <th>NumberOfTimes90DaysLate</th>\n",
       "      <th>NumberRealEstateLoansOrLines</th>\n",
       "      <th>NumberOfTime60-89DaysPastDueNotWorse</th>\n",
       "      <th>NumberOfDependents</th>\n",
       "    </tr>\n",
       "  </thead>\n",
       "  <tbody>\n",
       "    <tr>\n",
       "      <th>1</th>\n",
       "      <td>1</td>\n",
       "      <td>0.766127</td>\n",
       "      <td>45</td>\n",
       "      <td>2</td>\n",
       "      <td>0.802982</td>\n",
       "      <td>9120</td>\n",
       "      <td>13</td>\n",
       "      <td>0</td>\n",
       "      <td>6</td>\n",
       "      <td>0</td>\n",
       "      <td>2</td>\n",
       "    </tr>\n",
       "    <tr>\n",
       "      <th>2</th>\n",
       "      <td>0</td>\n",
       "      <td>0.957151</td>\n",
       "      <td>40</td>\n",
       "      <td>0</td>\n",
       "      <td>0.121876</td>\n",
       "      <td>2600</td>\n",
       "      <td>4</td>\n",
       "      <td>0</td>\n",
       "      <td>0</td>\n",
       "      <td>0</td>\n",
       "      <td>1</td>\n",
       "    </tr>\n",
       "    <tr>\n",
       "      <th>3</th>\n",
       "      <td>0</td>\n",
       "      <td>0.658180</td>\n",
       "      <td>38</td>\n",
       "      <td>1</td>\n",
       "      <td>0.085113</td>\n",
       "      <td>3042</td>\n",
       "      <td>2</td>\n",
       "      <td>1</td>\n",
       "      <td>0</td>\n",
       "      <td>0</td>\n",
       "      <td>0</td>\n",
       "    </tr>\n",
       "    <tr>\n",
       "      <th>4</th>\n",
       "      <td>0</td>\n",
       "      <td>0.233810</td>\n",
       "      <td>30</td>\n",
       "      <td>0</td>\n",
       "      <td>0.036050</td>\n",
       "      <td>3300</td>\n",
       "      <td>5</td>\n",
       "      <td>0</td>\n",
       "      <td>0</td>\n",
       "      <td>0</td>\n",
       "      <td>0</td>\n",
       "    </tr>\n",
       "    <tr>\n",
       "      <th>5</th>\n",
       "      <td>0</td>\n",
       "      <td>0.907239</td>\n",
       "      <td>49</td>\n",
       "      <td>1</td>\n",
       "      <td>0.024926</td>\n",
       "      <td>63588</td>\n",
       "      <td>7</td>\n",
       "      <td>0</td>\n",
       "      <td>1</td>\n",
       "      <td>0</td>\n",
       "      <td>0</td>\n",
       "    </tr>\n",
       "    <tr>\n",
       "      <th>6</th>\n",
       "      <td>0</td>\n",
       "      <td>0.213179</td>\n",
       "      <td>74</td>\n",
       "      <td>0</td>\n",
       "      <td>0.375607</td>\n",
       "      <td>3500</td>\n",
       "      <td>3</td>\n",
       "      <td>0</td>\n",
       "      <td>1</td>\n",
       "      <td>0</td>\n",
       "      <td>1</td>\n",
       "    </tr>\n",
       "    <tr>\n",
       "      <th>7</th>\n",
       "      <td>0</td>\n",
       "      <td>0.305682</td>\n",
       "      <td>57</td>\n",
       "      <td>0</td>\n",
       "      <td>5710.000000</td>\n",
       "      <td>NaN</td>\n",
       "      <td>8</td>\n",
       "      <td>0</td>\n",
       "      <td>3</td>\n",
       "      <td>0</td>\n",
       "      <td>0</td>\n",
       "    </tr>\n",
       "    <tr>\n",
       "      <th>8</th>\n",
       "      <td>0</td>\n",
       "      <td>0.754464</td>\n",
       "      <td>39</td>\n",
       "      <td>0</td>\n",
       "      <td>0.209940</td>\n",
       "      <td>3500</td>\n",
       "      <td>8</td>\n",
       "      <td>0</td>\n",
       "      <td>0</td>\n",
       "      <td>0</td>\n",
       "      <td>0</td>\n",
       "    </tr>\n",
       "    <tr>\n",
       "      <th>9</th>\n",
       "      <td>0</td>\n",
       "      <td>0.116951</td>\n",
       "      <td>27</td>\n",
       "      <td>0</td>\n",
       "      <td>46.000000</td>\n",
       "      <td>NaN</td>\n",
       "      <td>2</td>\n",
       "      <td>0</td>\n",
       "      <td>0</td>\n",
       "      <td>0</td>\n",
       "      <td>NaN</td>\n",
       "    </tr>\n",
       "    <tr>\n",
       "      <th>10</th>\n",
       "      <td>0</td>\n",
       "      <td>0.189169</td>\n",
       "      <td>57</td>\n",
       "      <td>0</td>\n",
       "      <td>0.606291</td>\n",
       "      <td>23684</td>\n",
       "      <td>9</td>\n",
       "      <td>0</td>\n",
       "      <td>4</td>\n",
       "      <td>0</td>\n",
       "      <td>2</td>\n",
       "    </tr>\n",
       "    <tr>\n",
       "      <th>11</th>\n",
       "      <td>0</td>\n",
       "      <td>0.644226</td>\n",
       "      <td>30</td>\n",
       "      <td>0</td>\n",
       "      <td>0.309476</td>\n",
       "      <td>2500</td>\n",
       "      <td>5</td>\n",
       "      <td>0</td>\n",
       "      <td>0</td>\n",
       "      <td>0</td>\n",
       "      <td>0</td>\n",
       "    </tr>\n",
       "    <tr>\n",
       "      <th>12</th>\n",
       "      <td>0</td>\n",
       "      <td>0.018798</td>\n",
       "      <td>51</td>\n",
       "      <td>0</td>\n",
       "      <td>0.531529</td>\n",
       "      <td>6501</td>\n",
       "      <td>7</td>\n",
       "      <td>0</td>\n",
       "      <td>2</td>\n",
       "      <td>0</td>\n",
       "      <td>2</td>\n",
       "    </tr>\n",
       "    <tr>\n",
       "      <th>13</th>\n",
       "      <td>0</td>\n",
       "      <td>0.010352</td>\n",
       "      <td>46</td>\n",
       "      <td>0</td>\n",
       "      <td>0.298354</td>\n",
       "      <td>12454</td>\n",
       "      <td>13</td>\n",
       "      <td>0</td>\n",
       "      <td>2</td>\n",
       "      <td>0</td>\n",
       "      <td>2</td>\n",
       "    </tr>\n",
       "    <tr>\n",
       "      <th>14</th>\n",
       "      <td>1</td>\n",
       "      <td>0.964673</td>\n",
       "      <td>40</td>\n",
       "      <td>3</td>\n",
       "      <td>0.382965</td>\n",
       "      <td>13700</td>\n",
       "      <td>9</td>\n",
       "      <td>3</td>\n",
       "      <td>1</td>\n",
       "      <td>1</td>\n",
       "      <td>2</td>\n",
       "    </tr>\n",
       "    <tr>\n",
       "      <th>15</th>\n",
       "      <td>0</td>\n",
       "      <td>0.019657</td>\n",
       "      <td>76</td>\n",
       "      <td>0</td>\n",
       "      <td>477.000000</td>\n",
       "      <td>0</td>\n",
       "      <td>6</td>\n",
       "      <td>0</td>\n",
       "      <td>1</td>\n",
       "      <td>0</td>\n",
       "      <td>0</td>\n",
       "    </tr>\n",
       "    <tr>\n",
       "      <th>16</th>\n",
       "      <td>0</td>\n",
       "      <td>0.548458</td>\n",
       "      <td>64</td>\n",
       "      <td>0</td>\n",
       "      <td>0.209892</td>\n",
       "      <td>11362</td>\n",
       "      <td>7</td>\n",
       "      <td>0</td>\n",
       "      <td>1</td>\n",
       "      <td>0</td>\n",
       "      <td>2</td>\n",
       "    </tr>\n",
       "    <tr>\n",
       "      <th>17</th>\n",
       "      <td>0</td>\n",
       "      <td>0.061086</td>\n",
       "      <td>78</td>\n",
       "      <td>0</td>\n",
       "      <td>2058.000000</td>\n",
       "      <td>NaN</td>\n",
       "      <td>10</td>\n",
       "      <td>0</td>\n",
       "      <td>2</td>\n",
       "      <td>0</td>\n",
       "      <td>0</td>\n",
       "    </tr>\n",
       "    <tr>\n",
       "      <th>18</th>\n",
       "      <td>0</td>\n",
       "      <td>0.166284</td>\n",
       "      <td>53</td>\n",
       "      <td>0</td>\n",
       "      <td>0.188274</td>\n",
       "      <td>8800</td>\n",
       "      <td>7</td>\n",
       "      <td>0</td>\n",
       "      <td>0</td>\n",
       "      <td>0</td>\n",
       "      <td>0</td>\n",
       "    </tr>\n",
       "    <tr>\n",
       "      <th>19</th>\n",
       "      <td>0</td>\n",
       "      <td>0.221813</td>\n",
       "      <td>43</td>\n",
       "      <td>0</td>\n",
       "      <td>0.527888</td>\n",
       "      <td>3280</td>\n",
       "      <td>7</td>\n",
       "      <td>0</td>\n",
       "      <td>1</td>\n",
       "      <td>0</td>\n",
       "      <td>2</td>\n",
       "    </tr>\n",
       "    <tr>\n",
       "      <th>20</th>\n",
       "      <td>0</td>\n",
       "      <td>0.602794</td>\n",
       "      <td>25</td>\n",
       "      <td>0</td>\n",
       "      <td>0.065868</td>\n",
       "      <td>333</td>\n",
       "      <td>2</td>\n",
       "      <td>0</td>\n",
       "      <td>0</td>\n",
       "      <td>0</td>\n",
       "      <td>0</td>\n",
       "    </tr>\n",
       "    <tr>\n",
       "      <th>21</th>\n",
       "      <td>0</td>\n",
       "      <td>0.200923</td>\n",
       "      <td>43</td>\n",
       "      <td>0</td>\n",
       "      <td>0.430046</td>\n",
       "      <td>12300</td>\n",
       "      <td>10</td>\n",
       "      <td>0</td>\n",
       "      <td>2</td>\n",
       "      <td>0</td>\n",
       "      <td>0</td>\n",
       "    </tr>\n",
       "    <tr>\n",
       "      <th>22</th>\n",
       "      <td>1</td>\n",
       "      <td>0.025656</td>\n",
       "      <td>38</td>\n",
       "      <td>0</td>\n",
       "      <td>0.475841</td>\n",
       "      <td>3000</td>\n",
       "      <td>7</td>\n",
       "      <td>0</td>\n",
       "      <td>1</td>\n",
       "      <td>0</td>\n",
       "      <td>2</td>\n",
       "    </tr>\n",
       "    <tr>\n",
       "      <th>23</th>\n",
       "      <td>0</td>\n",
       "      <td>1.000000</td>\n",
       "      <td>39</td>\n",
       "      <td>0</td>\n",
       "      <td>0.241104</td>\n",
       "      <td>2500</td>\n",
       "      <td>4</td>\n",
       "      <td>0</td>\n",
       "      <td>0</td>\n",
       "      <td>0</td>\n",
       "      <td>0</td>\n",
       "    </tr>\n",
       "    <tr>\n",
       "      <th>24</th>\n",
       "      <td>0</td>\n",
       "      <td>0.075427</td>\n",
       "      <td>32</td>\n",
       "      <td>0</td>\n",
       "      <td>0.085512</td>\n",
       "      <td>7916</td>\n",
       "      <td>6</td>\n",
       "      <td>0</td>\n",
       "      <td>0</td>\n",
       "      <td>0</td>\n",
       "      <td>0</td>\n",
       "    </tr>\n",
       "    <tr>\n",
       "      <th>25</th>\n",
       "      <td>0</td>\n",
       "      <td>0.046560</td>\n",
       "      <td>58</td>\n",
       "      <td>0</td>\n",
       "      <td>0.241622</td>\n",
       "      <td>2416</td>\n",
       "      <td>9</td>\n",
       "      <td>0</td>\n",
       "      <td>1</td>\n",
       "      <td>0</td>\n",
       "      <td>0</td>\n",
       "    </tr>\n",
       "    <tr>\n",
       "      <th>26</th>\n",
       "      <td>1</td>\n",
       "      <td>0.392248</td>\n",
       "      <td>50</td>\n",
       "      <td>0</td>\n",
       "      <td>1.595253</td>\n",
       "      <td>4676</td>\n",
       "      <td>14</td>\n",
       "      <td>0</td>\n",
       "      <td>3</td>\n",
       "      <td>0</td>\n",
       "      <td>1</td>\n",
       "    </tr>\n",
       "    <tr>\n",
       "      <th>27</th>\n",
       "      <td>0</td>\n",
       "      <td>0.052436</td>\n",
       "      <td>58</td>\n",
       "      <td>0</td>\n",
       "      <td>0.097672</td>\n",
       "      <td>8333</td>\n",
       "      <td>22</td>\n",
       "      <td>0</td>\n",
       "      <td>1</td>\n",
       "      <td>0</td>\n",
       "      <td>0</td>\n",
       "    </tr>\n",
       "    <tr>\n",
       "      <th>28</th>\n",
       "      <td>0</td>\n",
       "      <td>0.034421</td>\n",
       "      <td>69</td>\n",
       "      <td>0</td>\n",
       "      <td>0.042383</td>\n",
       "      <td>2500</td>\n",
       "      <td>17</td>\n",
       "      <td>0</td>\n",
       "      <td>0</td>\n",
       "      <td>0</td>\n",
       "      <td>1</td>\n",
       "    </tr>\n",
       "    <tr>\n",
       "      <th>29</th>\n",
       "      <td>0</td>\n",
       "      <td>0.452516</td>\n",
       "      <td>24</td>\n",
       "      <td>0</td>\n",
       "      <td>0.011761</td>\n",
       "      <td>3400</td>\n",
       "      <td>1</td>\n",
       "      <td>0</td>\n",
       "      <td>0</td>\n",
       "      <td>0</td>\n",
       "      <td>0</td>\n",
       "    </tr>\n",
       "    <tr>\n",
       "      <th>30</th>\n",
       "      <td>0</td>\n",
       "      <td>0.392995</td>\n",
       "      <td>58</td>\n",
       "      <td>2</td>\n",
       "      <td>0.436103</td>\n",
       "      <td>5500</td>\n",
       "      <td>15</td>\n",
       "      <td>0</td>\n",
       "      <td>1</td>\n",
       "      <td>0</td>\n",
       "      <td>0</td>\n",
       "    </tr>\n",
       "    <tr>\n",
       "      <th>...</th>\n",
       "      <td>...</td>\n",
       "      <td>...</td>\n",
       "      <td>...</td>\n",
       "      <td>...</td>\n",
       "      <td>...</td>\n",
       "      <td>...</td>\n",
       "      <td>...</td>\n",
       "      <td>...</td>\n",
       "      <td>...</td>\n",
       "      <td>...</td>\n",
       "      <td>...</td>\n",
       "    </tr>\n",
       "    <tr>\n",
       "      <th>149971</th>\n",
       "      <td>0</td>\n",
       "      <td>0.025449</td>\n",
       "      <td>58</td>\n",
       "      <td>0</td>\n",
       "      <td>0.253855</td>\n",
       "      <td>15500</td>\n",
       "      <td>7</td>\n",
       "      <td>0</td>\n",
       "      <td>2</td>\n",
       "      <td>0</td>\n",
       "      <td>2</td>\n",
       "    </tr>\n",
       "    <tr>\n",
       "      <th>149972</th>\n",
       "      <td>0</td>\n",
       "      <td>0.058001</td>\n",
       "      <td>83</td>\n",
       "      <td>0</td>\n",
       "      <td>0.013997</td>\n",
       "      <td>5000</td>\n",
       "      <td>6</td>\n",
       "      <td>0</td>\n",
       "      <td>0</td>\n",
       "      <td>0</td>\n",
       "      <td>0</td>\n",
       "    </tr>\n",
       "    <tr>\n",
       "      <th>149973</th>\n",
       "      <td>0</td>\n",
       "      <td>0.071273</td>\n",
       "      <td>42</td>\n",
       "      <td>0</td>\n",
       "      <td>0.008638</td>\n",
       "      <td>6945</td>\n",
       "      <td>3</td>\n",
       "      <td>0</td>\n",
       "      <td>0</td>\n",
       "      <td>0</td>\n",
       "      <td>1</td>\n",
       "    </tr>\n",
       "    <tr>\n",
       "      <th>149974</th>\n",
       "      <td>0</td>\n",
       "      <td>1.026395</td>\n",
       "      <td>44</td>\n",
       "      <td>0</td>\n",
       "      <td>0.494819</td>\n",
       "      <td>5500</td>\n",
       "      <td>7</td>\n",
       "      <td>0</td>\n",
       "      <td>1</td>\n",
       "      <td>0</td>\n",
       "      <td>1</td>\n",
       "    </tr>\n",
       "    <tr>\n",
       "      <th>149975</th>\n",
       "      <td>0</td>\n",
       "      <td>0.962721</td>\n",
       "      <td>61</td>\n",
       "      <td>2</td>\n",
       "      <td>0.603479</td>\n",
       "      <td>5000</td>\n",
       "      <td>11</td>\n",
       "      <td>0</td>\n",
       "      <td>1</td>\n",
       "      <td>0</td>\n",
       "      <td>0</td>\n",
       "    </tr>\n",
       "    <tr>\n",
       "      <th>149976</th>\n",
       "      <td>0</td>\n",
       "      <td>0.022088</td>\n",
       "      <td>58</td>\n",
       "      <td>0</td>\n",
       "      <td>2716.000000</td>\n",
       "      <td>NaN</td>\n",
       "      <td>8</td>\n",
       "      <td>0</td>\n",
       "      <td>2</td>\n",
       "      <td>0</td>\n",
       "      <td>0</td>\n",
       "    </tr>\n",
       "    <tr>\n",
       "      <th>149977</th>\n",
       "      <td>0</td>\n",
       "      <td>0.000627</td>\n",
       "      <td>76</td>\n",
       "      <td>0</td>\n",
       "      <td>60.000000</td>\n",
       "      <td>NaN</td>\n",
       "      <td>5</td>\n",
       "      <td>0</td>\n",
       "      <td>0</td>\n",
       "      <td>0</td>\n",
       "      <td>0</td>\n",
       "    </tr>\n",
       "    <tr>\n",
       "      <th>149978</th>\n",
       "      <td>0</td>\n",
       "      <td>0.236450</td>\n",
       "      <td>29</td>\n",
       "      <td>0</td>\n",
       "      <td>349.000000</td>\n",
       "      <td>NaN</td>\n",
       "      <td>3</td>\n",
       "      <td>0</td>\n",
       "      <td>0</td>\n",
       "      <td>0</td>\n",
       "      <td>0</td>\n",
       "    </tr>\n",
       "    <tr>\n",
       "      <th>149979</th>\n",
       "      <td>0</td>\n",
       "      <td>0.917635</td>\n",
       "      <td>52</td>\n",
       "      <td>2</td>\n",
       "      <td>0.259496</td>\n",
       "      <td>2500</td>\n",
       "      <td>4</td>\n",
       "      <td>0</td>\n",
       "      <td>0</td>\n",
       "      <td>0</td>\n",
       "      <td>0</td>\n",
       "    </tr>\n",
       "    <tr>\n",
       "      <th>149980</th>\n",
       "      <td>1</td>\n",
       "      <td>0.224711</td>\n",
       "      <td>55</td>\n",
       "      <td>0</td>\n",
       "      <td>0.057235</td>\n",
       "      <td>8700</td>\n",
       "      <td>7</td>\n",
       "      <td>0</td>\n",
       "      <td>0</td>\n",
       "      <td>0</td>\n",
       "      <td>0</td>\n",
       "    </tr>\n",
       "    <tr>\n",
       "      <th>149981</th>\n",
       "      <td>0</td>\n",
       "      <td>0.067644</td>\n",
       "      <td>64</td>\n",
       "      <td>0</td>\n",
       "      <td>0.254976</td>\n",
       "      <td>5525</td>\n",
       "      <td>12</td>\n",
       "      <td>0</td>\n",
       "      <td>1</td>\n",
       "      <td>0</td>\n",
       "      <td>0</td>\n",
       "    </tr>\n",
       "    <tr>\n",
       "      <th>149982</th>\n",
       "      <td>0</td>\n",
       "      <td>0.810012</td>\n",
       "      <td>43</td>\n",
       "      <td>0</td>\n",
       "      <td>0.121752</td>\n",
       "      <td>6849</td>\n",
       "      <td>4</td>\n",
       "      <td>0</td>\n",
       "      <td>0</td>\n",
       "      <td>0</td>\n",
       "      <td>4</td>\n",
       "    </tr>\n",
       "    <tr>\n",
       "      <th>149983</th>\n",
       "      <td>0</td>\n",
       "      <td>0.021046</td>\n",
       "      <td>37</td>\n",
       "      <td>0</td>\n",
       "      <td>0.250272</td>\n",
       "      <td>2760</td>\n",
       "      <td>8</td>\n",
       "      <td>0</td>\n",
       "      <td>0</td>\n",
       "      <td>0</td>\n",
       "      <td>3</td>\n",
       "    </tr>\n",
       "    <tr>\n",
       "      <th>149984</th>\n",
       "      <td>0</td>\n",
       "      <td>0.002485</td>\n",
       "      <td>82</td>\n",
       "      <td>0</td>\n",
       "      <td>0.000800</td>\n",
       "      <td>5000</td>\n",
       "      <td>5</td>\n",
       "      <td>0</td>\n",
       "      <td>0</td>\n",
       "      <td>0</td>\n",
       "      <td>0</td>\n",
       "    </tr>\n",
       "    <tr>\n",
       "      <th>149985</th>\n",
       "      <td>0</td>\n",
       "      <td>0.037548</td>\n",
       "      <td>84</td>\n",
       "      <td>0</td>\n",
       "      <td>25.000000</td>\n",
       "      <td>NaN</td>\n",
       "      <td>5</td>\n",
       "      <td>0</td>\n",
       "      <td>0</td>\n",
       "      <td>0</td>\n",
       "      <td>0</td>\n",
       "    </tr>\n",
       "    <tr>\n",
       "      <th>149986</th>\n",
       "      <td>0</td>\n",
       "      <td>0.954409</td>\n",
       "      <td>26</td>\n",
       "      <td>0</td>\n",
       "      <td>0.324962</td>\n",
       "      <td>1950</td>\n",
       "      <td>4</td>\n",
       "      <td>0</td>\n",
       "      <td>0</td>\n",
       "      <td>0</td>\n",
       "      <td>0</td>\n",
       "    </tr>\n",
       "    <tr>\n",
       "      <th>149987</th>\n",
       "      <td>0</td>\n",
       "      <td>0.168102</td>\n",
       "      <td>49</td>\n",
       "      <td>0</td>\n",
       "      <td>0.080384</td>\n",
       "      <td>5000</td>\n",
       "      <td>16</td>\n",
       "      <td>0</td>\n",
       "      <td>0</td>\n",
       "      <td>0</td>\n",
       "      <td>1</td>\n",
       "    </tr>\n",
       "    <tr>\n",
       "      <th>149988</th>\n",
       "      <td>0</td>\n",
       "      <td>1.000000</td>\n",
       "      <td>28</td>\n",
       "      <td>0</td>\n",
       "      <td>0.055692</td>\n",
       "      <td>3249</td>\n",
       "      <td>3</td>\n",
       "      <td>1</td>\n",
       "      <td>0</td>\n",
       "      <td>0</td>\n",
       "      <td>0</td>\n",
       "    </tr>\n",
       "    <tr>\n",
       "      <th>149989</th>\n",
       "      <td>0</td>\n",
       "      <td>0.902051</td>\n",
       "      <td>31</td>\n",
       "      <td>1</td>\n",
       "      <td>0.347924</td>\n",
       "      <td>7515</td>\n",
       "      <td>10</td>\n",
       "      <td>0</td>\n",
       "      <td>1</td>\n",
       "      <td>0</td>\n",
       "      <td>0</td>\n",
       "    </tr>\n",
       "    <tr>\n",
       "      <th>149990</th>\n",
       "      <td>0</td>\n",
       "      <td>0.013356</td>\n",
       "      <td>62</td>\n",
       "      <td>0</td>\n",
       "      <td>0.001408</td>\n",
       "      <td>9233</td>\n",
       "      <td>4</td>\n",
       "      <td>0</td>\n",
       "      <td>0</td>\n",
       "      <td>0</td>\n",
       "      <td>3</td>\n",
       "    </tr>\n",
       "    <tr>\n",
       "      <th>149991</th>\n",
       "      <td>0</td>\n",
       "      <td>0.055518</td>\n",
       "      <td>46</td>\n",
       "      <td>0</td>\n",
       "      <td>0.609779</td>\n",
       "      <td>4335</td>\n",
       "      <td>7</td>\n",
       "      <td>0</td>\n",
       "      <td>1</td>\n",
       "      <td>0</td>\n",
       "      <td>2</td>\n",
       "    </tr>\n",
       "    <tr>\n",
       "      <th>149992</th>\n",
       "      <td>0</td>\n",
       "      <td>0.104112</td>\n",
       "      <td>59</td>\n",
       "      <td>0</td>\n",
       "      <td>0.477658</td>\n",
       "      <td>10316</td>\n",
       "      <td>10</td>\n",
       "      <td>0</td>\n",
       "      <td>2</td>\n",
       "      <td>0</td>\n",
       "      <td>0</td>\n",
       "    </tr>\n",
       "    <tr>\n",
       "      <th>149993</th>\n",
       "      <td>0</td>\n",
       "      <td>0.871976</td>\n",
       "      <td>50</td>\n",
       "      <td>0</td>\n",
       "      <td>4132.000000</td>\n",
       "      <td>NaN</td>\n",
       "      <td>11</td>\n",
       "      <td>0</td>\n",
       "      <td>1</td>\n",
       "      <td>0</td>\n",
       "      <td>3</td>\n",
       "    </tr>\n",
       "    <tr>\n",
       "      <th>149994</th>\n",
       "      <td>0</td>\n",
       "      <td>1.000000</td>\n",
       "      <td>22</td>\n",
       "      <td>0</td>\n",
       "      <td>0.000000</td>\n",
       "      <td>820</td>\n",
       "      <td>1</td>\n",
       "      <td>0</td>\n",
       "      <td>0</td>\n",
       "      <td>0</td>\n",
       "      <td>0</td>\n",
       "    </tr>\n",
       "    <tr>\n",
       "      <th>149995</th>\n",
       "      <td>0</td>\n",
       "      <td>0.385742</td>\n",
       "      <td>50</td>\n",
       "      <td>0</td>\n",
       "      <td>0.404293</td>\n",
       "      <td>3400</td>\n",
       "      <td>7</td>\n",
       "      <td>0</td>\n",
       "      <td>0</td>\n",
       "      <td>0</td>\n",
       "      <td>0</td>\n",
       "    </tr>\n",
       "    <tr>\n",
       "      <th>149996</th>\n",
       "      <td>0</td>\n",
       "      <td>0.040674</td>\n",
       "      <td>74</td>\n",
       "      <td>0</td>\n",
       "      <td>0.225131</td>\n",
       "      <td>2100</td>\n",
       "      <td>4</td>\n",
       "      <td>0</td>\n",
       "      <td>1</td>\n",
       "      <td>0</td>\n",
       "      <td>0</td>\n",
       "    </tr>\n",
       "    <tr>\n",
       "      <th>149997</th>\n",
       "      <td>0</td>\n",
       "      <td>0.299745</td>\n",
       "      <td>44</td>\n",
       "      <td>0</td>\n",
       "      <td>0.716562</td>\n",
       "      <td>5584</td>\n",
       "      <td>4</td>\n",
       "      <td>0</td>\n",
       "      <td>1</td>\n",
       "      <td>0</td>\n",
       "      <td>2</td>\n",
       "    </tr>\n",
       "    <tr>\n",
       "      <th>149998</th>\n",
       "      <td>0</td>\n",
       "      <td>0.246044</td>\n",
       "      <td>58</td>\n",
       "      <td>0</td>\n",
       "      <td>3870.000000</td>\n",
       "      <td>NaN</td>\n",
       "      <td>18</td>\n",
       "      <td>0</td>\n",
       "      <td>1</td>\n",
       "      <td>0</td>\n",
       "      <td>0</td>\n",
       "    </tr>\n",
       "    <tr>\n",
       "      <th>149999</th>\n",
       "      <td>0</td>\n",
       "      <td>0.000000</td>\n",
       "      <td>30</td>\n",
       "      <td>0</td>\n",
       "      <td>0.000000</td>\n",
       "      <td>5716</td>\n",
       "      <td>4</td>\n",
       "      <td>0</td>\n",
       "      <td>0</td>\n",
       "      <td>0</td>\n",
       "      <td>0</td>\n",
       "    </tr>\n",
       "    <tr>\n",
       "      <th>150000</th>\n",
       "      <td>0</td>\n",
       "      <td>0.850283</td>\n",
       "      <td>64</td>\n",
       "      <td>0</td>\n",
       "      <td>0.249908</td>\n",
       "      <td>8158</td>\n",
       "      <td>8</td>\n",
       "      <td>0</td>\n",
       "      <td>2</td>\n",
       "      <td>0</td>\n",
       "      <td>0</td>\n",
       "    </tr>\n",
       "  </tbody>\n",
       "</table>\n",
       "<p>150000 rows × 11 columns</p>\n",
       "</div>"
      ]
     },
     "output_type": "execute_result",
     "metadata": {}
    }
   ],
   "source": [
    "# read Credit Scoring data into data frame\n",
    "y_var_name = 'SeriousDlqin2yrs'\n",
    "X_var_names = [\n",
    "  'RevolvingUtilizationOfUnsecuredLines',\n",
    "  'age',\n",
    "  'NumberOfTime30-59DaysPastDueNotWorse',\n",
    "  'DebtRatio',\n",
    "  'MonthlyIncome',\n",
    "  'NumberOfOpenCreditLinesAndLoans',\n",
    "  'NumberOfTimes90DaysLate',\n",
    "  'NumberRealEstateLoansOrLines',\n",
    "  'NumberOfTime60-89DaysPastDueNotWorse',\n",
    "  'NumberOfDependents']\n",
    "\n",
    "cs = pandas.read_csv(\n",
    "    DATA_URL,\n",
    "    dtype={\n",
    "        'SeriousDlqin2yrs': int,\n",
    "        'RevolvingUtilizationOfUnsecuredLines': float,\n",
    "        'age': float,\n",
    "        'NumberOfTime30-59DaysPastDueNotWorse': float,\n",
    "        'DebtRatio': float,\n",
    "        'MonthlyIncome': float,\n",
    "        'NumberOfOpenCreditLinesAndLoans': float,\n",
    "        'NumberOfTimes90DaysLate': float,\n",
    "        'NumberRealEstateLoansOrLines': float,\n",
    "        'NumberOfTime60-89DaysPastDueNotWorse': float,\n",
    "        'NumberOfDependents': float},\n",
    "    index_col=0,\n",
    "    na_values='NA')\n",
    "\n",
    "cs.loc[:, 'SeriousDlqin2yrs'] = pandas.Categorical(cs.SeriousDlqin2yrs)\n",
    "\n",
    "nb_samples = len(cs)\n",
    "\n",
    "cs"
   ]
  },
  {
   "cell_type": "markdown",
   "metadata": {},
   "source": [
    "Just to sanity-check, the classes of the variables are:"
   ]
  },
  {
   "cell_type": "code",
   "execution_count": 6,
   "metadata": {},
   "outputs": [
    {
     "name": "stdout",
     "output_type": "stream",
     "text": [
      "SeriousDlqin2yrs: category\n",
      "RevolvingUtilizationOfUnsecuredLines: float64\n",
      "age: float64\n",
      "NumberOfTime30-59DaysPastDueNotWorse: float64\n",
      "DebtRatio: float64\n",
      "MonthlyIncome: float64\n",
      "NumberOfOpenCreditLinesAndLoans: float64\n",
      "NumberOfTimes90DaysLate: float64\n",
      "NumberRealEstateLoansOrLines: float64\n",
      "NumberOfTime60-89DaysPastDueNotWorse: float64\n",
      "NumberOfDependents: float64\n"
     ]
    }
   ],
   "source": [
    "for col_name in cs:\n",
    "    printflush('%s: %s' %(col_name, cs[col_name].dtype))"
   ]
  },
  {
   "cell_type": "markdown",
   "metadata": {},
   "source": [
    "The incidence of loan delinquency in all samples is:"
   ]
  },
  {
   "cell_type": "code",
   "execution_count": 7,
   "metadata": {},
   "outputs": [
    {
     "data": {
      "text/plain": [
       "0.066839999999999997"
      ]
     },
     "execution_count": 7,
     "output_type": "execute_result",
     "metadata": {}
    }
   ],
   "source": [
    "sum(cs.SeriousDlqin2yrs) / nb_samples"
   ]
  },
  {
   "cell_type": "markdown",
   "metadata": {},
   "source": [
    "Note that this creates a \"**skewed classes**\" problem: one of the classes of cases (here the \"delinquent\" class) is significantly rarer than the other.\n",
    "\n",
    "_(**note**: in more extreme cases where one class is much, much rarer than the other to the order of 1000 or 10,000 times, our model fitting procedures would need to be tweaked; but this case is not so extreme)_\n",
    "\n",
    "Let's split the data into a Training set and a Test set:"
   ]
  },
  {
   "cell_type": "code",
   "execution_count": 8,
   "metadata": {},
   "outputs": [],
   "source": [
    "cs_train, cs_test = train_test_split(\n",
    "    cs,\n",
    "    train_size=.2,\n",
    "    random_state=RANDOM_SEED)"
   ]
  },
  {
   "cell_type": "markdown",
   "metadata": {},
   "source": [
    "Let's also split a bit of data from the Training set as a Validation set for the purpose of estimating OOS performance metrics:"
   ]
  },
  {
   "cell_type": "code",
   "execution_count": 9,
   "metadata": {},
   "outputs": [],
   "source": [
    "cs_train, cs_valid = train_test_split(\n",
    "    cs_train,\n",
    "    train_size=2. / 3.,\n",
    "    random_state=RANDOM_SEED)"
   ]
  },
  {
   "cell_type": "markdown",
   "metadata": {},
   "source": [
    "Just to sanity-check that the data sets have been split representatively: the delinquency incidences in the Training, Validation and Test sets are:"
   ]
  },
  {
   "cell_type": "code",
   "execution_count": 10,
   "metadata": {},
   "outputs": [
    {
     "name": "stdout",
     "output_type": "stream",
     "text": [
      "20000 obs: 0.064750 delinquent\n",
      "10000 obs: 0.067800 delinquent\n",
      "120000 obs: 0.067108 delinquent\n"
     ]
    }
   ],
   "source": [
    "for data_set in (cs_train, cs_valid, cs_test):\n",
    "    printflush('%i obs: %f delinquent' %(len(data_set), sum(data_set.SeriousDlqin2yrs) / len(data_set)))"
   ]
  },
  {
   "cell_type": "markdown",
   "metadata": {},
   "source": [
    "The proportions of missing data points per column in the Training set are as follows:"
   ]
  },
  {
   "cell_type": "code",
   "execution_count": 11,
   "metadata": {},
   "outputs": [
    {
     "data": {
      "text/plain": [
       "SeriousDlqin2yrs                        0.0000\n",
       "RevolvingUtilizationOfUnsecuredLines    0.0000\n",
       "age                                     0.0000\n",
       "NumberOfTime30-59DaysPastDueNotWorse    0.0000\n",
       "DebtRatio                               0.0000\n",
       "MonthlyIncome                           0.1991\n",
       "NumberOfOpenCreditLinesAndLoans         0.0000\n",
       "NumberOfTimes90DaysLate                 0.0000\n",
       "NumberRealEstateLoansOrLines            0.0000\n",
       "NumberOfTime60-89DaysPastDueNotWorse    0.0000\n",
       "NumberOfDependents                      0.0254\n",
       "dtype: float64"
      ]
     },
     "execution_count": 11,
     "output_type": "execute_result",
     "metadata": {}
    }
   ],
   "source": [
    "cs_train.isnull().sum() / len(cs_train)"
   ]
  },
  {
   "cell_type": "markdown",
   "metadata": {},
   "source": [
    "Let's not throw away valuable data just because of missing values; let's impute missing with the means of the respective columns in the _**Training**_ set:"
   ]
  },
  {
   "cell_type": "code",
   "execution_count": 12,
   "metadata": {},
   "outputs": [],
   "source": [
    "cs_train_mean_MonthlyIncome = cs_train.MonthlyIncome.mean(skipna=True)\n",
    "cs_train_mean_NumberOfDependents = cs_train.NumberOfDependents.mean(skipna=True)\n",
    "\n",
    "cs_train.ix[:, 'MonthlyIncome'] =\\\n",
    "    cs_train.MonthlyIncome.fillna(cs_train_mean_MonthlyIncome, inplace=False)\n",
    "cs_train.ix[:, 'NumberOfDependents'] =\\\n",
    "    cs_train.NumberOfDependents.fillna(cs_train_mean_NumberOfDependents, inplace=False)"
   ]
  },
  {
   "cell_type": "markdown",
   "metadata": {},
   "source": [
    "# Classification Models\n",
    "\n",
    "Let's train 3 types of classification models: a Random Forest, a Boosted Trees model and a Logistic Regression."
   ]
  },
  {
   "cell_type": "code",
   "execution_count": 13,
   "metadata": {},
   "outputs": [
    {
     "data": {
      "text/plain": [
       "RandomForestClassifier(bootstrap=True, class_weight=None, criterion='entropy',\n",
       "            max_depth=None, max_features=None, max_leaf_nodes=None,\n",
       "            min_samples_leaf=100, min_samples_split=200,\n",
       "            min_weight_fraction_leaf=0.0, n_estimators=600, n_jobs=2,\n",
       "            oob_score=True, random_state=99, verbose=0, warm_start=False)"
      ]
     },
     "execution_count": 13,
     "output_type": "execute_result",
     "metadata": {}
    }
   ],
   "source": [
    "B = 600\n",
    "\n",
    "rf_model = \\\n",
    "    RandomForestClassifier(\n",
    "        n_estimators=B,\n",
    "        criterion='entropy',\n",
    "        max_depth=None,   # expand until all leaves are pure or contain < MIN_SAMPLES_SPLIT samples\n",
    "        min_samples_split=200,\n",
    "        min_samples_leaf=100,\n",
    "        min_weight_fraction_leaf=0.0,\n",
    "        max_features=None,   # number of features to consider when looking for the best split; None: max_features=n_features\n",
    "        max_leaf_nodes=None,   # None: unlimited number of leaf nodes\n",
    "        bootstrap=True,\n",
    "        oob_score=True,   # estimate Out-of-Bag Cross Entropy\n",
    "        n_jobs=multiprocessing.cpu_count() - 2,   # paralellize over all CPU cores but 2\n",
    "        class_weight=None,    # our classes are skewed, but but too skewed\n",
    "        random_state=RANDOM_SEED,\n",
    "        verbose=0,\n",
    "        warm_start=False)\n",
    "\n",
    "rf_model.fit(\n",
    "    X=cs_train[X_var_names],\n",
    "    y=cs_train.SeriousDlqin2yrs)"
   ]
  },
  {
   "cell_type": "code",
   "execution_count": 14,
   "metadata": {},
   "outputs": [
    {
     "data": {
      "text/plain": [
       "GradientBoostingClassifier(init=None, learning_rate=0.01, loss='deviance',\n",
       "              max_depth=10, max_features=None, max_leaf_nodes=None,\n",
       "              min_samples_leaf=100, min_samples_split=200,\n",
       "              min_weight_fraction_leaf=0.0, n_estimators=600,\n",
       "              presort='auto', random_state=99, subsample=1.0, verbose=0,\n",
       "              warm_start=False)"
      ]
     },
     "execution_count": 14,
     "output_type": "execute_result",
     "metadata": {}
    }
   ],
   "source": [
    "B = 600\n",
    "\n",
    "boost_model = \\\n",
    "    GradientBoostingClassifier(\n",
    "        n_estimators=B,\n",
    "        loss='deviance',   # a.k.a Cross Entropy in Classification\n",
    "        learning_rate=.01,   # shrinkage parameter\n",
    "        subsample=1.,\n",
    "        min_samples_split=200,\n",
    "        min_samples_leaf=100,\n",
    "        min_weight_fraction_leaf=0.0,\n",
    "        max_depth=10,   # maximum tree depth / number of levels of interaction\n",
    "        init=None,\n",
    "        random_state=RANDOM_SEED,\n",
    "        max_features=None,   # number of features to consider when looking for the best split; None: max_features=n_features\n",
    "        verbose=0,\n",
    "        max_leaf_nodes=None,   # None: unlimited number of leaf nodes\n",
    "        warm_start=False)\n",
    "\n",
    "boost_model.fit(\n",
    "    X=cs_train[X_var_names],\n",
    "    y=cs_train.SeriousDlqin2yrs)"
   ]
  },
  {
   "cell_type": "code",
   "execution_count": 15,
   "metadata": {},
   "outputs": [
    {
     "data": {
      "text/plain": [
       "LogisticRegression(C=1000.0, class_weight=None, dual=False,\n",
       "          fit_intercept=True, intercept_scaling=1.0, max_iter=100,\n",
       "          multi_class='multinomial', n_jobs=1, penalty='l2',\n",
       "          random_state=99, solver='lbfgs', tol=0.0001, verbose=0,\n",
       "          warm_start=False)"
      ]
     },
     "execution_count": 15,
     "output_type": "execute_result",
     "metadata": {}
    }
   ],
   "source": [
    "log_reg_model = \\\n",
    "    LogisticRegression(\n",
    "        penalty='l2',\n",
    "        dual=False,\n",
    "        tol=0.0001,\n",
    "        C=1000.,\n",
    "        fit_intercept=True,\n",
    "        intercept_scaling=1.,\n",
    "        class_weight=None,\n",
    "        random_state=RANDOM_SEED,\n",
    "        solver='lbfgs',\n",
    "        max_iter=100,\n",
    "        multi_class='multinomial',\n",
    "        verbose=0)\n",
    "\n",
    "X_standard_scaler = StandardScaler()\n",
    "X_standard_scaler.fit(cs_train[X_var_names])\n",
    "log_reg_model.fit(\n",
    "    X=X_standard_scaler.transform(cs_train[X_var_names]),\n",
    "    y=cs_train.SeriousDlqin2yrs)"
   ]
  },
  {
   "cell_type": "markdown",
   "metadata": {},
   "source": [
    "We'll now evaluate the OOS performances of these 3 models on the Validation set to select a model we think is best:"
   ]
  },
  {
   "cell_type": "code",
   "execution_count": 16,
   "metadata": {},
   "outputs": [],
   "source": [
    "low_prob = 1e-6\n",
    "high_prob = 1 - low_prob\n",
    "log_low_prob = numpy.log(low_prob)\n",
    "log_high_prob = numpy.log(high_prob)\n",
    "log_prob_thresholds = numpy.linspace(start=log_low_prob, stop=log_high_prob, num=100)\n",
    "prob_thresholds = numpy.exp(log_prob_thresholds)\n",
    "\n",
    "# fill missing data in the Validation set\n",
    "cs_valid.ix[:, 'MonthlyIncome'] =\\\n",
    "    cs_valid.MonthlyIncome.fillna(cs_train_mean_MonthlyIncome, inplace=False)\n",
    "cs_valid.ix[:, 'NumberOfDependents'] =\\\n",
    "    cs_valid.NumberOfDependents.fillna(cs_train_mean_NumberOfDependents, inplace=False)"
   ]
  },
  {
   "cell_type": "code",
   "execution_count": 17,
   "metadata": {},
   "outputs": [],
   "source": [
    "rf_pred_probs = \\\n",
    "    rf_model.predict_proba(\n",
    "        X=cs_valid[X_var_names])\n",
    "    \n",
    "rf_oos_performance = \\\n",
    "    bin_classif_eval(\n",
    "        rf_pred_probs[:, 1], cs_valid.SeriousDlqin2yrs,\n",
    "        pos_cat=1, thresholds=prob_thresholds)"
   ]
  },
  {
   "cell_type": "code",
   "execution_count": 18,
   "metadata": {},
   "outputs": [],
   "source": [
    "boost_pred_probs = \\\n",
    "    boost_model.predict_proba(\n",
    "        X=cs_valid[X_var_names])\n",
    "    \n",
    "boost_oos_performance = \\\n",
    "    bin_classif_eval(\n",
    "        boost_pred_probs[:, 1], cs_valid.SeriousDlqin2yrs,\n",
    "        pos_cat=1, thresholds=prob_thresholds)"
   ]
  },
  {
   "cell_type": "code",
   "execution_count": 19,
   "metadata": {},
   "outputs": [],
   "source": [
    "log_reg_pred_probs = \\\n",
    "    log_reg_model.predict_proba(\n",
    "        X=X_standard_scaler.transform(cs_valid[X_var_names]))\n",
    "    \n",
    "log_reg_oos_performance = \\\n",
    "    bin_classif_eval(\n",
    "        log_reg_pred_probs[:, 1], cs_valid.SeriousDlqin2yrs,\n",
    "        pos_cat=1, thresholds=prob_thresholds)"
   ]
  },
  {
   "cell_type": "code",
   "execution_count": 20,
   "metadata": {},
   "outputs": [
    {
     "data": {
      "text/plain": [
       "<matplotlib.text.Text at 0x7f704e971590>"
      ]
     },
     "execution_count": 20,
     "output_type": "execute_result",
     "metadata": {}
    },
    {
     "data": {
      "image/png": "[encoded data removed]"
     },
     "output_type": "display_data",
     "metadata": {}
    }
   ],
   "source": [
    "pyplot.rcParams.update({\n",
    "    'figure.figsize': (8, 6),\n",
    "    'figure.titlesize': 'xx-large',\n",
    "    'legend.fontsize': 'x-large'})\n",
    "\n",
    "fig, ax = pyplot.subplots()\n",
    "\n",
    "ax.plot(\n",
    "    [0, 1], [0, 1],\n",
    "    linestyle='dotted')\n",
    "\n",
    "ax.plot(\n",
    "    1 - rf_oos_performance.specificity,\n",
    "    rf_oos_performance.recall,\n",
    "    label='Random Forest')\n",
    "\n",
    "ax.plot(\n",
    "    1 - boost_oos_performance.specificity,\n",
    "    boost_oos_performance.recall,\n",
    "    label='Boosted Trees')\n",
    "\n",
    "ax.plot(\n",
    "    1 - log_reg_oos_performance.specificity,\n",
    "    log_reg_oos_performance.recall,\n",
    "    label='Logistic Regression')\n",
    "\n",
    "ax.legend(loc='right')\n",
    "fig.suptitle('ROC Curves (Validation Data)')"
   ]
  },
  {
   "cell_type": "markdown",
   "metadata": {},
   "source": [
    "We see that Random Forest and Boosted Trees are comparable in OOS performance, and both much better than Logistic Regression. Let's choose the Boosted Trees model for evaluation on the Test set.\n",
    "\n",
    "We now need to pick a decision threshold for the Boosted Trees model. If we are to be really rigorous, we'll need to pose this trade-off in the context of a financial firm extending loans, e.g. balancing the costs of bad debt and the costs of auditing loans that are healthy. Here, to make life simple, we'll pick a subjective threshold that enables us to anticipate **75%** of the delinquency cases:"
   ]
  },
  {
   "cell_type": "code",
   "execution_count": 21,
   "metadata": {},
   "outputs": [
    {
     "data": {
      "text/plain": [
       "0.070547966098677431"
      ]
     },
     "execution_count": 21,
     "output_type": "execute_result",
     "metadata": {}
    }
   ],
   "source": [
    "recall_threshold = .75\n",
    "idx = next(i for i in range(100) if boost_oos_performance.recall[i] <= recall_threshold) - 1\n",
    "selected_prob_threshold = prob_thresholds[idx]\n",
    "selected_prob_threshold"
   ]
  },
  {
   "cell_type": "markdown",
   "metadata": {},
   "source": [
    "The OOS performance of the Boosted Trees algorithm at this threshold is as follows:"
   ]
  },
  {
   "cell_type": "code",
   "execution_count": 22,
   "metadata": {},
   "outputs": [
    {
     "data": {
      "text/plain": [
       "threshold      0.070548\n",
       "accuracy       0.823200\n",
       "recall         0.756637\n",
       "specificity    0.828041\n",
       "precision      0.242439\n",
       "f1_score       0.367215\n",
       "deviance       0.358566\n",
       "Name: 80, dtype: float64"
      ]
     },
     "execution_count": 22,
     "output_type": "execute_result",
     "metadata": {}
    }
   ],
   "source": [
    "boost_oos_performance.iloc[idx, :]"
   ]
  },
  {
   "cell_type": "markdown",
   "metadata": {},
   "source": [
    "Note that there is trade-off: the precision of the model at this sensitivity threshold is rather low, meaning that there'll be many false positives, i.e. cases with lower financial risk being classified as likely to be delinquent."
   ]
  },
  {
   "cell_type": "markdown",
   "metadata": {},
   "source": [
    "# Test Performance of Selected Model\n",
    "\n",
    "Remember that the Test data may have some missing values. Let's first impute those missing values by the relevant means we've derived from the Training data:"
   ]
  },
  {
   "cell_type": "code",
   "execution_count": 23,
   "metadata": {},
   "outputs": [
    {
     "name": "stderr",
     "output_type": "stream",
     "text": [
      "/usr/local/lib64/python2.7/site-packages/pandas/core/indexing.py:426: SettingWithCopyWarning: \n",
      "A value is trying to be set on a copy of a slice from a DataFrame.\n",
      "Try using .loc[row_indexer,col_indexer] = value instead\n",
      "\n",
      "See the caveats in the documentation: http://pandas.pydata.org/pandas-docs/stable/indexing.html#indexing-view-versus-copy\n",
      "  self.obj[item] = s\n"
     ]
    }
   ],
   "source": [
    "cs_test.ix[:, 'MonthlyIncome'] =\\\n",
    "    cs_test.MonthlyIncome.fillna(cs_train_mean_MonthlyIncome, inplace=False)\n",
    "cs_test.ix[:, 'NumberOfDependents'] =\\\n",
    "    cs_test.NumberOfDependents.fillna(cs_train_mean_NumberOfDependents, inplace=False)"
   ]
  },
  {
   "cell_type": "markdown",
   "metadata": {},
   "source": [
    "Let's then evaluate the performance of the selected Boosted Trees model at the decision threshold determined above:"
   ]
  },
  {
   "cell_type": "code",
   "execution_count": 24,
   "metadata": {},
   "outputs": [
    {
     "data": {
      "text/plain": [
       "{'accuracy': 0.82250000000000001,\n",
       " 'deviance': 0.36646631580798361,\n",
       " 'f1_score': 0.35230797299762812,\n",
       " 'precision': 0.23327829903757097,\n",
       " 'recall': 0.71935924500186266,\n",
       " 'specificity': 0.82991951548500631}"
      ]
     },
     "execution_count": 24,
     "output_type": "execute_result",
     "metadata": {}
    }
   ],
   "source": [
    "boost_test_pred_probs = \\\n",
    "    boost_model.predict_proba(\n",
    "        X=cs_test[X_var_names])\n",
    "    \n",
    "boost_test_oos_performance = \\\n",
    "    bin_classif_eval(\n",
    "        boost_test_pred_probs[:, 1], cs_test.SeriousDlqin2yrs,\n",
    "        pos_cat=1, thresholds=selected_prob_threshold)\n",
    "    \n",
    "boost_test_oos_performance"
   ]
  },
  {
   "cell_type": "markdown",
   "metadata": {},
   "source": [
    "We can see that the Test performance is very similar to what we've estimated from the Validation set. The selected model works as expected."
   ]
  },
  {
   "cell_type": "markdown",
   "metadata": {},
   "source": [
    "# _BONUS:_ Apache Spark solution"
   ]
  },
  {
   "cell_type": "code",
   "execution_count": 25,
   "metadata": {},
   "outputs": [],
   "source": [
    "# Apache Spark settings\n",
    "if AWS_EMR_MODE:\n",
    "    SPARK_MODE = 'yarn-client'                 # running Spark on AWS EMR YARN cluster\n",
    "    SPARK_HOME = '/usr/lib/spark'              # default Spark installation folder on AWS EMR master node\n",
    "    SPARK_DRIVER_MEMORY = '9g'                 # memory allocated to MapReduce driver process\n",
    "    SPARK_EXECUTOR_MEMORY = '3g'               # memory allocated to each MapReduce executor process\n",
    "    SPARK_DRIVER_MAX_RESULT_SIZE = '6g'        # maximum size of objects collected back to MapReduce driver process\n",
    "else:\n",
    "    SPARK_MODE = 'local'                       # running Spark on single machine\n",
    "    SPARK_HOME = '/Applications/spark-1.5.2'   # Spark installation folder on my machine\n",
    "    SPARK_DRIVER_MEMORY = '5g'                 # memory allocated to MapReduce driver process \n",
    "    SPARK_EXECUTOR_MEMORY = '1g'               # memory allocated to each MapReduce executor process\n",
    "    SPARK_DRIVER_MAX_RESULT_SIZE = '3g'        # maximum size of objects collected back to MapReduce driver process"
   ]
  },
  {
   "cell_type": "code",
   "execution_count": 26,
   "metadata": {},
   "outputs": [
    {
     "name": "stdout",
     "output_type": "stream",
     "text": [
      "SparkContext: <pyspark.context.SparkContext object at 0x7f704e664710>\n",
      "HiveContext: <pyspark.sql.context.HiveContext object at 0x7f704e8b4d90>\n"
     ]
    }
   ],
   "source": [
    "if 'pyspark' not in vars():   # set up Apache Spark environment if not yet done so\n",
    "    \n",
    "    # set environment variables for Spark\n",
    "    os.environ['SPARK_HOME'] = SPARK_HOME\n",
    "    os.environ['SPARK_HIVE'] = 'true'\n",
    "    \n",
    "    # enable importing of PySpark through FindSpark package\n",
    "    import findspark\n",
    "    findspark.init()\n",
    "    \n",
    "    # import PySpark and set up SparkContext (\"sc\") & HiveContext (\"hc\")\n",
    "    import pyspark\n",
    "    \n",
    "    sc = pyspark.SparkContext(\n",
    "        conf=pyspark.SparkConf()\n",
    "            .setMaster(SPARK_MODE)\n",
    "            .setAppName('BostonHousing')\n",
    "            .set('spark.driver.memory', SPARK_DRIVER_MEMORY)\n",
    "            .set('spark.executor.memory', SPARK_EXECUTOR_MEMORY)\n",
    "            .set('spark.driver.maxResultSize', SPARK_DRIVER_MAX_RESULT_SIZE))\n",
    "    \n",
    "    hc = pyspark.sql.HiveContext(sc)\n",
    "    \n",
    "print('SparkContext:', sc)\n",
    "print('HiveContext:', hc)"
   ]
  },
  {
   "cell_type": "code",
   "execution_count": 27,
   "metadata": {},
   "outputs": [],
   "source": [
    "# imports from PySpark\n",
    "from pyspark.ml import Pipeline\n",
    "from pyspark.ml.feature import StandardScaler, StringIndexer, VectorAssembler\n",
    "from pyspark.ml.evaluation import BinaryClassificationEvaluator\n",
    "from pyspark.ml.classification import \\\n",
    "    RandomForestClassifier as SparkML_RandomForestClassifier, \\\n",
    "    GBTClassifier as SparkML_GBTClassifier, \\\n",
    "    LogisticRegression as SparkML_LogisticRegression\n",
    "from pyspark.ml.tuning import CrossValidator, ParamGridBuilder"
   ]
  },
  {
   "cell_type": "code",
   "execution_count": 28,
   "metadata": {},
   "outputs": [
    {
     "name": "stdout",
     "output_type": "stream",
     "text": [
      "  % Total    % Received % Xferd  Average Speed   Time    Time     Time  Current\n",
      "                                 Dload  Upload   Total   Spent    Left  Speed\n",
      "100  5493  100  5493    0     0   4287      0  0:00:01  0:00:01 --:--:--  4288\n"
     ]
    }
   ],
   "source": [
    "# download PySpark_CSV.py and put it into SparkContext\n",
    "!curl https://raw.githubusercontent.com/seahboonsiew/pyspark-csv/master/pyspark_csv.py --output pyspark_csv.py\n",
    "\n",
    "sc.addPyFile('pyspark_csv.py')\n",
    "\n",
    "from pyspark_csv import csvToDataFrame"
   ]
  },
  {
   "cell_type": "code",
   "execution_count": 29,
   "metadata": {},
   "outputs": [],
   "source": [
    "# download data\n",
    "os.system('curl %s --output %s' %(DATA_URL, DATA_FILE_NAME))\n",
    "\n",
    "if AWS_EMR_MODE:\n",
    "    os.system('hadoop fs -put %s %s' % (DATA_FILE_NAME, DATA_FILE_NAME))"
   ]
  },
  {
   "cell_type": "code",
   "execution_count": 30,
   "metadata": {},
   "outputs": [
    {
     "name": "stdout",
     "output_type": "stream",
     "text": [
      "+---+----------------+------------------------------------+---+------------------------------------+-----------+-------------+-------------------------------+-----------------------+----------------------------+------------------------------------+------------------+\n",
      "|   |SeriousDlqin2yrs|RevolvingUtilizationOfUnsecuredLines|age|NumberOfTime30-59DaysPastDueNotWorse|  DebtRatio|MonthlyIncome|NumberOfOpenCreditLinesAndLoans|NumberOfTimes90DaysLate|NumberRealEstateLoansOrLines|NumberOfTime60-89DaysPastDueNotWorse|NumberOfDependents|\n",
      "+---+----------------+------------------------------------+---+------------------------------------+-----------+-------------+-------------------------------+-----------------------+----------------------------+------------------------------------+------------------+\n",
      "|  1|               1|                         0.766126609| 45|                                   2|0.802982129|         9120|                             13|                      0|                           6|                                   0|                 2|\n",
      "|  2|               0|                         0.957151019| 40|                                   0|0.121876201|         2600|                              4|                      0|                           0|                                   0|                 1|\n",
      "|  3|               0|                          0.65818014| 38|                                   1|0.085113375|         3042|                              2|                      1|                           0|                                   0|                 0|\n",
      "|  4|               0|                         0.233809776| 30|                                   0|0.036049682|         3300|                              5|                      0|                           0|                                   0|                 0|\n",
      "|  5|               0|                           0.9072394| 49|                                   1|0.024925695|        63588|                              7|                      0|                           1|                                   0|                 0|\n",
      "|  6|               0|                         0.213178682| 74|                                   0|0.375606969|         3500|                              3|                      0|                           1|                                   0|                 1|\n",
      "|  7|               0|                         0.305682465| 57|                                   0|     5710.0|           NA|                              8|                      0|                           3|                                   0|                 0|\n",
      "|  8|               0|                         0.754463648| 39|                                   0|0.209940017|         3500|                              8|                      0|                           0|                                   0|                 0|\n",
      "|  9|               0|                         0.116950644| 27|                                   0|       46.0|           NA|                              2|                      0|                           0|                                   0|                NA|\n",
      "+---+----------------+------------------------------------+---+------------------------------------+-----------+-------------+-------------------------------+-----------------------+----------------------------+------------------------------------+------------------+\n",
      "only showing top 9 rows\n",
      "\n"
     ]
    }
   ],
   "source": [
    "# read data into distributed data frame\n",
    "credit_scoring_ddf = \\\n",
    "    csvToDataFrame(\n",
    "        sqlCtx=hc,\n",
    "        rdd=sc.textFile(DATA_FILE_NAME),\n",
    "        columns=None,\n",
    "        sep=',',\n",
    "        parseDate=True)\\\n",
    "    .cache()\n",
    "\n",
    "credit_scoring_ddf.registerTempTable('credit_scoring')\n",
    "\n",
    "credit_scoring_ddf.show(NB_EXAMPLES_TO_SHOW)"
   ]
  },
  {
   "cell_type": "code",
   "execution_count": 31,
   "metadata": {},
   "outputs": [
    {
     "name": "stdout",
     "output_type": "stream",
     "text": [
      "root\n",
      " |-- : integer (nullable = true)\n",
      " |-- SeriousDlqin2yrs: integer (nullable = true)\n",
      " |-- RevolvingUtilizationOfUnsecuredLines: double (nullable = true)\n",
      " |-- age: integer (nullable = true)\n",
      " |-- NumberOfTime30-59DaysPastDueNotWorse: integer (nullable = true)\n",
      " |-- DebtRatio: double (nullable = true)\n",
      " |-- MonthlyIncome: string (nullable = true)\n",
      " |-- NumberOfOpenCreditLinesAndLoans: integer (nullable = true)\n",
      " |-- NumberOfTimes90DaysLate: integer (nullable = true)\n",
      " |-- NumberRealEstateLoansOrLines: integer (nullable = true)\n",
      " |-- NumberOfTime60-89DaysPastDueNotWorse: integer (nullable = true)\n",
      " |-- NumberOfDependents: string (nullable = true)\n",
      "\n"
     ]
    }
   ],
   "source": [
    "# print schema\n",
    "credit_scoring_ddf.printSchema()"
   ]
  },
  {
   "cell_type": "code",
   "execution_count": 32,
   "metadata": {},
   "outputs": [
    {
     "name": "stdout",
     "output_type": "stream",
     "text": [
      "root\n",
      " |-- SeriousDlqin2yrs: string (nullable = false)\n",
      " |-- RevolvingUtilizationOfUnsecuredLines: double (nullable = true)\n",
      " |-- age: double (nullable = true)\n",
      " |-- NumberOfTime30-59DaysPastDueNotWorse: double (nullable = true)\n",
      " |-- DebtRatio: double (nullable = true)\n",
      " |-- MonthlyIncome: double (nullable = true)\n",
      " |-- NumberOfOpenCreditLinesAndLoans: double (nullable = true)\n",
      " |-- NumberOfTimes90DaysLate: double (nullable = true)\n",
      " |-- NumberRealEstateLoansOrLines: double (nullable = true)\n",
      " |-- NumberOfTime60-89DaysPastDueNotWorse: double (nullable = true)\n",
      " |-- NumberOfDependents: double (nullable = true)\n",
      "\n"
     ]
    }
   ],
   "source": [
    "# remove redundant columns, convert labels to strings\n",
    "# & convert all integer columns to DoubleType\n",
    "credit_scoring_ddf = hc.sql(\n",
    "    \"SELECT \\\n",
    "        CASE \\\n",
    "            WHEN SeriousDlqin2yrs > 0 THEN 'yes' \\\n",
    "            ELSE 'no' \\\n",
    "            END \\\n",
    "            AS SeriousDlqin2yrs, \\\n",
    "        %s \\\n",
    "    FROM \\\n",
    "        credit_scoring\"\n",
    "    % ', '.join(['CAST(`%s` AS DOUBLE) AS `%s`' % (x_var_name, x_var_name)\n",
    "                  for x_var_name in X_var_names]))\\\n",
    "    .cache()\n",
    "\n",
    "credit_scoring_ddf.registerTempTable('credit_scoring')\n",
    "\n",
    "credit_scoring_ddf.printSchema()"
   ]
  },
  {
   "cell_type": "code",
   "execution_count": 33,
   "metadata": {},
   "outputs": [],
   "source": [
    "# split into Train & Test sets\n",
    "credit_scoring_train_ddf, credit_scoring_test_ddf = \\\n",
    "    credit_scoring_ddf.randomSplit(\n",
    "        weights=[.3, .7],\n",
    "        seed=RANDOM_SEED)\n",
    "    \n",
    "credit_scoring_train_ddf.cache()\n",
    "credit_scoring_train_ddf.registerTempTable('credit_scoring_train')\n",
    "\n",
    "credit_scoring_test_ddf.cache()\n",
    "credit_scoring_test_ddf.registerTempTable('credit_scoring_test')"
   ]
  },
  {
   "cell_type": "code",
   "execution_count": 34,
   "metadata": {},
   "outputs": [],
   "source": [
    "# count data completeness in Training set\n",
    "count_ddf = hc.sql(\n",
    "    \"SELECT \\\n",
    "        %s \\\n",
    "    FROM \\\n",
    "        credit_scoring_train\"\n",
    "    % ', '.join(['COUNT(`%s`) AS `%s`' % (v, v)\n",
    "                 for v in [y_var_name] + X_var_names]))\\\n",
    "    .cache()"
   ]
  },
  {
   "cell_type": "code",
   "execution_count": 35,
   "metadata": {},
   "outputs": [
    {
     "name": "stdout",
     "output_type": "stream",
     "text": [
      "+----------------+------------------------------------+-----+------------------------------------+\n",
      "|SeriousDlqin2yrs|RevolvingUtilizationOfUnsecuredLines|  age|NumberOfTime30-59DaysPastDueNotWorse|\n",
      "+----------------+------------------------------------+-----+------------------------------------+\n",
      "|           45008|                               45008|45008|                               45008|\n",
      "+----------------+------------------------------------+-----+------------------------------------+\n",
      "\n"
     ]
    }
   ],
   "source": [
    "count_ddf.select(\n",
    "    'SeriousDlqin2yrs',\n",
    "    'RevolvingUtilizationOfUnsecuredLines',\n",
    "    'age',\n",
    "    'NumberOfTime30-59DaysPastDueNotWorse')\\\n",
    "    .show()"
   ]
  },
  {
   "cell_type": "code",
   "execution_count": 36,
   "metadata": {},
   "outputs": [
    {
     "name": "stdout",
     "output_type": "stream",
     "text": [
      "+---------+-------------+-------------------------------+-----------------------+\n",
      "|DebtRatio|MonthlyIncome|NumberOfOpenCreditLinesAndLoans|NumberOfTimes90DaysLate|\n",
      "+---------+-------------+-------------------------------+-----------------------+\n",
      "|    45008|        36081|                          45008|                  45008|\n",
      "+---------+-------------+-------------------------------+-----------------------+\n",
      "\n"
     ]
    }
   ],
   "source": [
    "count_ddf.select(\n",
    "    'DebtRatio',\n",
    "    'MonthlyIncome',\n",
    "    'NumberOfOpenCreditLinesAndLoans',\n",
    "    'NumberOfTimes90DaysLate')\\\n",
    "    .show()"
   ]
  },
  {
   "cell_type": "code",
   "execution_count": 37,
   "metadata": {},
   "outputs": [
    {
     "name": "stdout",
     "output_type": "stream",
     "text": [
      "+----------------------------+------------------------------------+------------------+\n",
      "|NumberRealEstateLoansOrLines|NumberOfTime60-89DaysPastDueNotWorse|NumberOfDependents|\n",
      "+----------------------------+------------------------------------+------------------+\n",
      "|                       45008|                               45008|             43794|\n",
      "+----------------------------+------------------------------------+------------------+\n",
      "\n"
     ]
    }
   ],
   "source": [
    "count_ddf.select(\n",
    "    'NumberRealEstateLoansOrLines',\n",
    "    'NumberOfTime60-89DaysPastDueNotWorse',\n",
    "    'NumberOfDependents')\\\n",
    "    .show()"
   ]
  },
  {
   "cell_type": "code",
   "execution_count": 38,
   "metadata": {},
   "outputs": [
    {
     "data": {
      "text/plain": [
       "6570.641639644134"
      ]
     },
     "execution_count": 38,
     "output_type": "execute_result",
     "metadata": {}
    }
   ],
   "source": [
    "# calculate average MonthlyIncome to fill null values\n",
    "train_avg_monthly_income = hc.sql(\n",
    "    \"SELECT \\\n",
    "        AVG(MonthlyIncome) \\\n",
    "    FROM \\\n",
    "        credit_scoring_train\")\\\n",
    "    .rdd\\\n",
    "    .map(lambda row: row[0])\\\n",
    "    .take(1)[0]\n",
    "\n",
    "train_avg_monthly_income"
   ]
  },
  {
   "cell_type": "code",
   "execution_count": 39,
   "metadata": {},
   "outputs": [
    {
     "data": {
      "text/plain": [
       "0.7631182353747089"
      ]
     },
     "execution_count": 39,
     "output_type": "execute_result",
     "metadata": {}
    }
   ],
   "source": [
    "# calculate NumberOfDependents to fill null values\n",
    "train_avg_nb_dependents = hc.sql(\n",
    "    \"SELECT \\\n",
    "        AVG(NumberOfDependents) \\\n",
    "    FROM \\\n",
    "        credit_scoring_train\")\\\n",
    "    .rdd\\\n",
    "    .map(lambda row: row[0])\\\n",
    "    .take(1)[0]\n",
    "\n",
    "train_avg_nb_dependents"
   ]
  },
  {
   "cell_type": "code",
   "execution_count": 40,
   "metadata": {},
   "outputs": [
    {
     "name": "stdout",
     "output_type": "stream",
     "text": [
      "+-------------+------------------+\n",
      "|MonthlyIncome|NumberOfDependents|\n",
      "+-------------+------------------+\n",
      "|       9120.0|               2.0|\n",
      "|       2600.0|               1.0|\n",
      "|       3042.0|               0.0|\n",
      "|       3300.0|               0.0|\n",
      "|      63588.0|               0.0|\n",
      "|       2500.0|               0.0|\n",
      "|      11362.0|               2.0|\n",
      "|   6570.64164|               0.0|\n",
      "|       7916.0|               0.0|\n",
      "+-------------+------------------+\n",
      "only showing top 9 rows\n",
      "\n"
     ]
    }
   ],
   "source": [
    "# fill Training set\n",
    "\n",
    "complete_vars = \\\n",
    "    [y_var_name] + \\\n",
    "    ['RevolvingUtilizationOfUnsecuredLines',\n",
    "     'age',\n",
    "     'NumberOfTime30-59DaysPastDueNotWorse',\n",
    "     'DebtRatio',\n",
    "     'NumberOfOpenCreditLinesAndLoans',\n",
    "     'NumberOfTimes90DaysLate',\n",
    "     'NumberRealEstateLoansOrLines',\n",
    "     'NumberOfTime60-89DaysPastDueNotWorse']\n",
    "    \n",
    "credit_scoring_train_ddf = hc.sql(\n",
    "    \"SELECT \\\n",
    "        %s, \\\n",
    "        COALESCE(MonthlyIncome, %f) AS MonthlyIncome, \\\n",
    "        COALESCE(NumberOfDependents, %f) AS NumberOfDependents \\\n",
    "    FROM \\\n",
    "        credit_scoring_train\"\n",
    "    % (', '.join(['`%s`' % v for v in complete_vars]),\n",
    "       train_avg_monthly_income,\n",
    "       train_avg_nb_dependents))\\\n",
    "    .cache()\n",
    "\n",
    "credit_scoring_train_ddf.registerTempTable('credit_scoring_train')\n",
    "\n",
    "credit_scoring_train_ddf\\\n",
    "    .select(\n",
    "        'MonthlyIncome',\n",
    "        'NumberOfDependents')\\\n",
    "    .show(NB_EXAMPLES_TO_SHOW)"
   ]
  },
  {
   "cell_type": "code",
   "execution_count": 41,
   "metadata": {},
   "outputs": [
    {
     "name": "stdout",
     "output_type": "stream",
     "text": [
      "+-------------+------------------+\n",
      "|MonthlyIncome|NumberOfDependents|\n",
      "+-------------+------------------+\n",
      "|       3500.0|               1.0|\n",
      "|   6570.64164|               0.0|\n",
      "|       3500.0|               0.0|\n",
      "|   6570.64164|          0.763118|\n",
      "|      23684.0|               2.0|\n",
      "|       6501.0|               2.0|\n",
      "|      12454.0|               2.0|\n",
      "|      13700.0|               2.0|\n",
      "|          0.0|               0.0|\n",
      "+-------------+------------------+\n",
      "only showing top 9 rows\n",
      "\n"
     ]
    }
   ],
   "source": [
    "credit_scoring_test_ddf = hc.sql(\n",
    "    \"SELECT \\\n",
    "        %s, \\\n",
    "        COALESCE(MonthlyIncome, %f) AS MonthlyIncome, \\\n",
    "        COALESCE(NumberOfDependents, %f) AS NumberOfDependents \\\n",
    "    FROM \\\n",
    "        credit_scoring_test\"\n",
    "    % (', '.join(['`%s`' % v for v in complete_vars]),\n",
    "       train_avg_monthly_income,\n",
    "       train_avg_nb_dependents))\\\n",
    "    .cache()\n",
    "\n",
    "credit_scoring_test_ddf.registerTempTable('credit_scoring_test')\n",
    "\n",
    "credit_scoring_test_ddf\\\n",
    "    .select(\n",
    "        'MonthlyIncome',\n",
    "        'NumberOfDependents')\\\n",
    "    .show(NB_EXAMPLES_TO_SHOW)"
   ]
  },
  {
   "cell_type": "markdown",
   "metadata": {},
   "source": [
    "## Construct pipelines"
   ]
  },
  {
   "cell_type": "code",
   "execution_count": 42,
   "metadata": {},
   "outputs": [],
   "source": [
    "feature_vector_assembler = \\\n",
    "    VectorAssembler(\n",
    "        inputCols=X_var_names,\n",
    "        outputCol='features')"
   ]
  },
  {
   "cell_type": "code",
   "execution_count": 43,
   "metadata": {},
   "outputs": [],
   "source": [
    "feature_standard_scaler = \\\n",
    "    StandardScaler(\n",
    "        withMean=True,\n",
    "        withStd=True,\n",
    "        inputCol='features',\n",
    "        outputCol='standardized_features')\\\n",
    "    .fit(dataset=\n",
    "         feature_vector_assembler.transform(\n",
    "            credit_scoring_train_ddf))"
   ]
  },
  {
   "cell_type": "code",
   "execution_count": 44,
   "metadata": {},
   "outputs": [],
   "source": [
    "label_string_indexer = \\\n",
    "    StringIndexer(\n",
    "        inputCol='SeriousDlqin2yrs',\n",
    "        outputCol='SeriousDlqin2yrs_idx')\\\n",
    "    .fit(dataset=credit_scoring_train_ddf)"
   ]
  },
  {
   "cell_type": "code",
   "execution_count": 45,
   "metadata": {},
   "outputs": [],
   "source": [
    "# Random Forest Classifier\n",
    "rf_classifier = \\\n",
    "    SparkML_RandomForestClassifier(\n",
    "        featuresCol='features',\n",
    "        labelCol='SeriousDlqin2yrs_idx',\n",
    "        predictionCol='y_hat',\n",
    "        probabilityCol='p_hat',\n",
    "        rawPredictionCol='raw_pred',\n",
    "        maxDepth=6,\n",
    "        maxBins=32,\n",
    "        minInstancesPerNode=1,\n",
    "        minInfoGain=0.0,\n",
    "        maxMemoryInMB=256,\n",
    "        cacheNodeIds=False,\n",
    "        checkpointInterval=10,\n",
    "        impurity='entropy',\n",
    "        numTrees=600,\n",
    "        featureSubsetStrategy='auto',\n",
    "        seed=RANDOM_SEED)\n",
    "\n",
    "rf_pipeline_estimator = \\\n",
    "    Pipeline(\n",
    "        stages=[\n",
    "            feature_vector_assembler,\n",
    "            # feature_standard_scaler,\n",
    "            label_string_indexer,\n",
    "            rf_classifier])"
   ]
  },
  {
   "cell_type": "code",
   "execution_count": 46,
   "metadata": {},
   "outputs": [],
   "source": [
    "# GBT Classifier\n",
    "gbt_classifier = \\\n",
    "    SparkML_GBTClassifier(\n",
    "        featuresCol='features',\n",
    "        labelCol='SeriousDlqin2yrs_idx',\n",
    "        predictionCol='y_hat',\n",
    "        maxDepth=5,\n",
    "        maxBins=32,\n",
    "        minInstancesPerNode=1,\n",
    "        minInfoGain=0.0,\n",
    "        maxMemoryInMB=256,\n",
    "        cacheNodeIds=False,\n",
    "        checkpointInterval=10,\n",
    "        lossType='logistic',\n",
    "        maxIter=100,   # small number of trees to avoid Stack Overflow\n",
    "        stepSize=.1)\n",
    "\n",
    "gbt_pipeline_estimator = \\\n",
    "    Pipeline(\n",
    "        stages=[\n",
    "            feature_vector_assembler,\n",
    "            # feature_standard_scaler,\n",
    "            label_string_indexer,\n",
    "            gbt_classifier])"
   ]
  },
  {
   "cell_type": "code",
   "execution_count": 47,
   "metadata": {},
   "outputs": [],
   "source": [
    "# Logistic Regression Classifier\n",
    "lr_classifier = \\\n",
    "    SparkML_LogisticRegression(\n",
    "        featuresCol='features',\n",
    "        labelCol='SeriousDlqin2yrs_idx',\n",
    "        predictionCol='y_hat',\n",
    "        maxIter=10000,   # many iterations to compensate for inability to standard-scale\n",
    "        regParam=0.,\n",
    "        elasticNetParam=0.,\n",
    "        tol=1e-9,\n",
    "        fitIntercept=True,\n",
    "        threshold=.5,\n",
    "        # thresholds=None,\n",
    "        probabilityCol='p_hat',\n",
    "        rawPredictionCol='raw_pred')\n",
    "\n",
    "lr_pipeline_estimator = \\\n",
    "    Pipeline(\n",
    "        stages=[\n",
    "            feature_vector_assembler,\n",
    "            # feature_standard_scaler,\n",
    "            label_string_indexer,\n",
    "            lr_classifier])"
   ]
  },
  {
   "cell_type": "markdown",
   "metadata": {},
   "source": [
    "## Fit 3 Regression Pipelines"
   ]
  },
  {
   "cell_type": "code",
   "execution_count": 48,
   "metadata": {},
   "outputs": [],
   "source": [
    "# fit Random Forest Classifier\n",
    "rf_model = \\\n",
    "    rf_pipeline_estimator.fit(\n",
    "        dataset=credit_scoring_train_ddf)"
   ]
  },
  {
   "cell_type": "code",
   "execution_count": 49,
   "metadata": {},
   "outputs": [],
   "source": [
    "# fit GBT Classifier\n",
    "# gbt_model = \\\n",
    "#     gbt_pipeline_estimator.fit(\n",
    "#         dataset=credit_scoring_train_ddf)"
   ]
  },
  {
   "cell_type": "code",
   "execution_count": 50,
   "metadata": {},
   "outputs": [],
   "source": [
    "# fit Logistic Regression\n",
    "lr_model = \\\n",
    "    lr_pipeline_estimator.fit(\n",
    "        dataset=credit_scoring_train_ddf)"
   ]
  },
  {
   "cell_type": "markdown",
   "metadata": {},
   "source": [
    "## Make Predictions"
   ]
  },
  {
   "cell_type": "code",
   "execution_count": 51,
   "metadata": {},
   "outputs": [
    {
     "name": "stdout",
     "output_type": "stream",
     "text": [
      "+----------------+--------------------+--------------------+--------------------+-----+\n",
      "|SeriousDlqin2yrs|SeriousDlqin2yrs_idx|            raw_pred|               p_hat|y_hat|\n",
      "+----------------+--------------------+--------------------+--------------------+-----+\n",
      "|              no|                 0.0|[591.547576927535...|[0.98591262821255...|  0.0|\n",
      "|              no|                 0.0|[586.489189306993...|[0.97748198217832...|  0.0|\n",
      "|              no|                 0.0|[559.259984641726...|[0.93209997440287...|  0.0|\n",
      "|              no|                 0.0|[589.320374861145...|[0.98220062476857...|  0.0|\n",
      "|              no|                 0.0|[585.036821772535...|[0.97506136962089...|  0.0|\n",
      "|              no|                 0.0|[589.826393843757...|[0.98304398973959...|  0.0|\n",
      "|              no|                 0.0|[590.305638581826...|[0.98384273096971...|  0.0|\n",
      "|             yes|                 1.0|[225.200336855522...|[0.37533389475920...|  1.0|\n",
      "|              no|                 0.0|[594.084912355480...|[0.99014152059246...|  0.0|\n",
      "+----------------+--------------------+--------------------+--------------------+-----+\n",
      "only showing top 9 rows\n",
      "\n"
     ]
    }
   ],
   "source": [
    "rf_predictions_ddf = \\\n",
    "    rf_model.transform(\n",
    "        dataset=credit_scoring_test_ddf)\\\n",
    "    .select(\n",
    "        'SeriousDlqin2yrs',\n",
    "        'SeriousDlqin2yrs_idx',\n",
    "        'raw_pred',\n",
    "        'p_hat',\n",
    "        'y_hat')\\\n",
    "    .cache()\n",
    "        \n",
    "rf_predictions_ddf.show(NB_EXAMPLES_TO_SHOW)"
   ]
  },
  {
   "cell_type": "code",
   "execution_count": 52,
   "metadata": {},
   "outputs": [],
   "source": [
    "# gbt_predictions_ddf = \\\n",
    "#     gbt_model.transform(\n",
    "#         dataset=credit_scoring_test_ddf)\\\n",
    "#     .select(\n",
    "#         'SeriousDlqin2yrs',\n",
    "#         'SeriousDlqin2yrs_idx',\n",
    "#         'y_hat')\\\n",
    "#     .cache()\n",
    "    \n",
    "# gbt_predictions_ddf.show(NB_EXAMPLES_TO_SHOW)"
   ]
  },
  {
   "cell_type": "code",
   "execution_count": 53,
   "metadata": {},
   "outputs": [
    {
     "name": "stdout",
     "output_type": "stream",
     "text": [
      "+----------------+--------------------+--------------------+--------------------+-----+\n",
      "|SeriousDlqin2yrs|SeriousDlqin2yrs_idx|            raw_pred|               p_hat|y_hat|\n",
      "+----------------+--------------------+--------------------+--------------------+-----+\n",
      "|              no|                 0.0|[3.41473457755721...|[0.96816186726530...|  0.0|\n",
      "|              no|                 0.0|[3.30108019522362...|[0.96446584919000...|  0.0|\n",
      "|              no|                 0.0|[2.65010946046454...|[0.93401773672491...|  0.0|\n",
      "|              no|                 0.0|[2.25806351810849...|[0.90534381174433...|  0.0|\n",
      "|              no|                 0.0|[3.27138074101503...|[0.96343384508655...|  0.0|\n",
      "|              no|                 0.0|[2.73734351921199...|[0.93919456690850...|  0.0|\n",
      "|              no|                 0.0|[2.81818444837071...|[0.94365060375141...|  0.0|\n",
      "|             yes|                 1.0|[0.71692055593614...|[0.67192854239434...|  0.0|\n",
      "|              no|                 0.0|[3.53148070755909...|[0.97157034011756...|  0.0|\n",
      "+----------------+--------------------+--------------------+--------------------+-----+\n",
      "only showing top 9 rows\n",
      "\n"
     ]
    }
   ],
   "source": [
    "lr_predictions_ddf = \\\n",
    "    lr_model.transform(\n",
    "        dataset=credit_scoring_test_ddf)\\\n",
    "    .select(\n",
    "        'SeriousDlqin2yrs',\n",
    "        'SeriousDlqin2yrs_idx',\n",
    "        'raw_pred',\n",
    "        'p_hat',\n",
    "        'y_hat')\\\n",
    "    .cache()\n",
    "        \n",
    "lr_predictions_ddf.show(NB_EXAMPLES_TO_SHOW)"
   ]
  },
  {
   "cell_type": "markdown",
   "metadata": {},
   "source": [
    "## ROC Curves on Test Set"
   ]
  },
  {
   "cell_type": "code",
   "execution_count": 54,
   "metadata": {},
   "outputs": [],
   "source": [
    "rf_oos_performance = \\\n",
    "    bin_classif_eval(\n",
    "        numpy.array(rf_predictions_ddf.select('p_hat').rdd.map(lambda row: row[0][1]).collect()),\n",
    "        numpy.array(rf_predictions_ddf.select('SeriousDlqin2yrs_idx').rdd.map(lambda row: row[0]).collect()),\n",
    "        pos_cat=1, thresholds=prob_thresholds)"
   ]
  },
  {
   "cell_type": "code",
   "execution_count": 55,
   "metadata": {},
   "outputs": [],
   "source": [
    "lr_oos_performance = \\\n",
    "    bin_classif_eval(\n",
    "        numpy.array(lr_predictions_ddf.select('p_hat').rdd.map(lambda row: row[0][1]).collect()),\n",
    "        numpy.array(lr_predictions_ddf.select('SeriousDlqin2yrs_idx').rdd.map(lambda row: row[0]).collect()),\n",
    "        pos_cat=1, thresholds=prob_thresholds)"
   ]
  },
  {
   "cell_type": "code",
   "execution_count": 56,
   "metadata": {},
   "outputs": [
    {
     "data": {
      "text/plain": [
       "<matplotlib.text.Text at 0x7f704db8c110>"
      ]
     },
     "execution_count": 56,
     "output_type": "execute_result",
     "metadata": {}
    },
    {
     "data": {
      "image/png": "[encoded data removed]"
     },
     "output_type": "display_data",
     "metadata": {}
    }
   ],
   "source": [
    "pyplot.rcParams.update({\n",
    "    'figure.figsize': (8, 6),\n",
    "    'figure.titlesize': 'xx-large',\n",
    "    'legend.fontsize': 'x-large'})\n",
    "\n",
    "fig, ax = pyplot.subplots()\n",
    "\n",
    "ax.plot(\n",
    "    [0, 1], [0, 1],\n",
    "    linestyle='dotted')\n",
    "\n",
    "ax.plot(\n",
    "    1 - rf_oos_performance.specificity,\n",
    "    rf_oos_performance.recall,\n",
    "    label='SparkML Random Forest')\n",
    "\n",
    "ax.plot(\n",
    "    1 - lr_oos_performance.specificity,\n",
    "    lr_oos_performance.recall,\n",
    "    label='SparkML Logistic Regression')\n",
    "\n",
    "ax.legend(loc='right')\n",
    "fig.suptitle('ROC Curves (Test Data)')"
   ]
  }
 ],
 "metadata": {
  "kernelspec": {
   "display_name": "Python 2",
   "language": "python",
   "name": "python2"
  },
  "language_info": {
   "codemirror_mode": {
    "name": "ipython",
    "version": 2.0
   },
   "file_extension": ".py",
   "mimetype": "text/x-python",
   "name": "python",
   "nbconvert_exporter": "python",
   "pygments_lexer": "ipython2",
   "version": "2.7.10"
  }
 },
 "nbformat": 4,
 "nbformat_minor": 0
}